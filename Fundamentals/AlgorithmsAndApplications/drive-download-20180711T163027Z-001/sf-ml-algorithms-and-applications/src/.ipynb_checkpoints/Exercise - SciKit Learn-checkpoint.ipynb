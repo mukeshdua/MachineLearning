{
 "cells": [
  {
   "cell_type": "markdown",
   "metadata": {},
   "source": [
    "## Simple Linear Regression\n",
    "1. For this exercise we will need __`matplotlib.pyplot`__ and __`numpy`__\n",
    "* Don't forget to inline your __`matplotlib`__ images!"
   ]
  },
  {
   "cell_type": "code",
   "execution_count": null,
   "metadata": {
    "collapsed": true
   },
   "outputs": [],
   "source": [
    "%matplotlib inline\n",
    "import numpy as np\n",
    "import matplotlib.pyplot as plt\n",
    "from sklearn import datasets"
   ]
  },
  {
   "cell_type": "markdown",
   "metadata": {},
   "source": [
    "## First, we will model random data\n",
    "1. Generate 50 random numbers between 1 and 10 and call it __`x`__\n",
    "* Create a second dataset __`y`__ with a linear relationship to __`x`__ plus some noise, e.g., \n",
    "$$ y = 2x - 5 + noise $$\n",
    "* Plot __`x`__ vs. __`y`__"
   ]
  },
  {
   "cell_type": "code",
   "execution_count": null,
   "metadata": {
    "collapsed": true
   },
   "outputs": [],
   "source": [
    "np"
   ]
  },
  {
   "cell_type": "markdown",
   "metadata": {},
   "source": [
    "## Given the linear relationship in the data, it should be trivial to \"learn\" the coefficients of the line using a __`LinearRegression`__ model from __`scikit-learn`__\n",
    "\n",
    "1. Create the model (__`fit_intercept=True`__)\n",
    "* Fit the model to our data\n",
    "* Generate a range of 1000 values between 0 and 10.\n",
    "* Use the model to predict the outcome of these new values.\n",
    "* Plot the new __`x y`__ data on top of our original randomized sample data."
   ]
  },
  {
   "cell_type": "code",
   "execution_count": null,
   "metadata": {
    "collapsed": true
   },
   "outputs": [],
   "source": []
  },
  {
   "cell_type": "markdown",
   "metadata": {},
   "source": [
    "## Evaluate the model\n",
    "1. Print out the slope and intercept for the model and compare it to the values you used to generate the original __`y`__ data\n",
    "* It should be pretty close–why isn't it exact?"
   ]
  },
  {
   "cell_type": "code",
   "execution_count": null,
   "metadata": {
    "collapsed": true
   },
   "outputs": [],
   "source": []
  },
  {
   "cell_type": "markdown",
   "metadata": {},
   "source": [
    "## Now let's model some actual sales data\n",
    "* After the following imports, read in the file __`data/WA_Fn-UseC_-Sales-Win-Loss.csv`__"
   ]
  },
  {
   "cell_type": "code",
   "execution_count": null,
   "metadata": {
    "collapsed": true
   },
   "outputs": [],
   "source": [
    "import pandas as pd\n",
    "import numpy as np\n",
    "import matplotlib.pyplot as plt\n",
    "from sklearn.linear_model import LogisticRegression, LinearRegression\n",
    "from sklearn.model_selection import train_test_split"
   ]
  },
  {
   "cell_type": "code",
   "execution_count": null,
   "metadata": {
    "collapsed": true
   },
   "outputs": [],
   "source": []
  },
  {
   "cell_type": "markdown",
   "metadata": {},
   "source": [
    "## Explore the data a bit"
   ]
  },
  {
   "cell_type": "code",
   "execution_count": null,
   "metadata": {
    "collapsed": true
   },
   "outputs": [],
   "source": []
  },
  {
   "cell_type": "markdown",
   "metadata": {},
   "source": [
    "## Select/Clean the data\n",
    "\n",
    "1. We only want rows that have a __`Won`__ value for the __`Opportunity Result`__ and then we want to drop that column from the filtered data. \n",
    "* We need to convert the categorical data into dummy binary elements. Use the function __`get_dummies()`__ function for this purpose.\n",
    "* Save off the __`Opportunity Amount USD`__ results for comparison purposes but then drop that column\n",
    "* Split the remaining data into training and test data for our filtered results and the winning amounts (saved data from step 3)"
   ]
  },
  {
   "cell_type": "code",
   "execution_count": null,
   "metadata": {
    "collapsed": true
   },
   "outputs": [],
   "source": [
    "won = dat[dat[\"Opportunity Result\"] == \"Won\"].drop([\"Opportunity Result\"], axis=1)\n",
    "won = pd.get_dummies(won)\n",
    "won_output = won[\"Opportunity Amount USD\"]\n",
    "won_filtered = won.drop([\"Opportunity Number\", \"Opportunity Amount USD\"],axis=1)\n",
    "won_train, won_test, won_train_output, won_test_output \n",
    "     = train_test_split(won_filtered, won_output, test_size=10000)\n"
   ]
  },
  {
   "cell_type": "markdown",
   "metadata": {},
   "source": [
    "## Model the data\n",
    "* Create a __`LinearRegression`__ model and then fit the training data and its output"
   ]
  },
  {
   "cell_type": "code",
   "execution_count": null,
   "metadata": {
    "collapsed": true
   },
   "outputs": [],
   "source": []
  },
  {
   "cell_type": "markdown",
   "metadata": {},
   "source": [
    "## View results\n",
    "* Create a __`DataFrame`__ of the coefficients from the regression model\n",
    "* Sort the values\n",
    "* Display the values"
   ]
  },
  {
   "cell_type": "code",
   "execution_count": null,
   "metadata": {
    "collapsed": true
   },
   "outputs": [],
   "source": []
  },
  {
   "cell_type": "markdown",
   "metadata": {},
   "source": [
    "## How did we do?\n",
    "1. Predict the results from the test data\n",
    "* Measure the predictions against the actual winning results"
   ]
  },
  {
   "cell_type": "code",
   "execution_count": null,
   "metadata": {
    "collapsed": true
   },
   "outputs": [],
   "source": []
  }
 ],
 "metadata": {
  "kernelspec": {
   "display_name": "Python 3",
   "language": "python",
   "name": "python3"
  },
  "language_info": {
   "codemirror_mode": {
    "name": "ipython",
    "version": 3
   },
   "file_extension": ".py",
   "mimetype": "text/x-python",
   "name": "python",
   "nbconvert_exporter": "python",
   "pygments_lexer": "ipython3",
   "version": "3.6.4"
  }
 },
 "nbformat": 4,
 "nbformat_minor": 2
}
