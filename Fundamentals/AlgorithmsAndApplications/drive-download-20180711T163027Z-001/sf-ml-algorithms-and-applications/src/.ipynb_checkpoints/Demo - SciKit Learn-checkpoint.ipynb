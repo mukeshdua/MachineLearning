{
 "cells": [
  {
   "cell_type": "markdown",
   "metadata": {},
   "source": [
    "# Demo - SciKit Learn\n",
    "* popular Python library providing efficient implementation of a large number of machine learning algorithms\n",
    "* purposely designed to be clean and uniform across tools\n",
    "* consistent data representation and common interface"
   ]
  },
  {
   "cell_type": "markdown",
   "metadata": {},
   "source": [
    "# SciKit Learn Data Representation\n",
    "<img style=\"height: 400px;\" src=\"images/scikit-learn-data.png\">"
   ]
  },
  {
   "cell_type": "code",
   "execution_count": null,
   "metadata": {
    "collapsed": true
   },
   "outputs": [],
   "source": [
    "%matplotlib inline\n",
    "import numpy as np\n",
    "import pandas as pd\n",
    "import matplotlib.pyplot as plt\n",
    "from sklearn import datasets\n",
    "\n",
    "np.random.seed(5)\n",
    "\n",
    "# load the iris dataset that ships with scikit learn\n",
    "iris = datasets.load_iris()\n",
    "dat = pd.DataFrame(data= np.c_[iris['data'], iris['target']],\n",
    "                   columns= iris['feature_names'] + ['target'])\n",
    "dat"
   ]
  },
  {
   "cell_type": "code",
   "execution_count": null,
   "metadata": {
    "collapsed": true
   },
   "outputs": [],
   "source": [
    "# Set up the feature matrix\n",
    "X_iris = dat.drop('target', axis=1)\n",
    "X_iris.shape"
   ]
  },
  {
   "cell_type": "code",
   "execution_count": null,
   "metadata": {
    "collapsed": true
   },
   "outputs": [],
   "source": [
    "# Set up the target vector\n",
    "y_iris = iris['target']\n",
    "y_iris.shape"
   ]
  },
  {
   "cell_type": "markdown",
   "metadata": {},
   "source": [
    "# scikit-learn Objects\n",
    "* \"All objects within scikit-learn share a uniform common basic API consisting of three complementary interfaces: an estimator interface for building and fitting models, a predictor interface for making predictions and a transformer interface for converting data.\"\n",
    "<br>__*API design for machine learning software:\n",
    "experiences from the scikit-learn project*__ (https://arxiv.org/pdf/1309.0238.pdf)"
   ]
  },
  {
   "cell_type": "markdown",
   "metadata": {},
   "source": [
    "# Estimator API\n",
    "* Driven by a set of principles documented in the above paper:\n",
    "  * Consistency\n",
    "  * Allow Inspection\n",
    "  * Limited object hierarchies\n",
    "  * Composition\n",
    "  * Sensible defaults"
   ]
  },
  {
   "cell_type": "markdown",
   "metadata": {},
   "source": [
    "# General Workflow\n",
    "* Choose a model\n",
    "* Choose model hyperparameters\n",
    "* Arrange data into a features matrix and target vector\n",
    "* Fit the model to the data with the __`fit()`__ method\n",
    "* Apply the model to test data (__`predict()`__ or __`transform()`__)"
   ]
  },
  {
   "cell_type": "code",
   "execution_count": null,
   "metadata": {
    "collapsed": true
   },
   "outputs": [],
   "source": [
    "# Linear Regression Example from Python Data Science Handbook\n",
    "# First, generate some sample data\n",
    "# We'll add some random noise so the points are scattered\n",
    "rng = np.random.RandomState(1)\n",
    "x = 10 * rng.rand(50)\n",
    "\n",
    "# generate some randomness in the y axis\n",
    "y = 2 * x - 5 + rng.randn(50)\n",
    "plt.scatter(x, y);"
   ]
  },
  {
   "cell_type": "code",
   "execution_count": null,
   "metadata": {
    "collapsed": true
   },
   "outputs": [],
   "source": [
    "from sklearn.linear_model import LinearRegression\n",
    "model = LinearRegression()\n",
    "# the data needs to be of the form [n_samples, n_features]\n",
    "# so we add a new axis to generate a 2-D array from x\n",
    "model.fit(x[:, np.newaxis], y)\n",
    "\n",
    "xfit = np.linspace(0, 10, 1000)\n",
    "# same for xfit...\n",
    "yfit = model.predict(xfit[:, np.newaxis])\n",
    "\n",
    "plt.scatter(x, y)\n",
    "plt.plot(xfit, yfit)\n",
    "print(\"Model slope:    \", model.coef_[0])\n",
    "print(\"Model intercept:\", model.intercept_)"
   ]
  },
  {
   "cell_type": "code",
   "execution_count": null,
   "metadata": {
    "collapsed": true
   },
   "outputs": [],
   "source": [
    "from sklearn.tree import DecisionTreeClassifier\n",
    "tree_clf = DecisionTreeClassifier(max_depth=2)\n",
    "\n",
    "tree_clf.fit(X_iris, y_iris)\n",
    "tree_clf.predict([[5, 1.5, 2, 2.0]])"
   ]
  },
  {
   "cell_type": "code",
   "execution_count": null,
   "metadata": {
    "collapsed": true
   },
   "outputs": [],
   "source": [
    "from sklearn.cluster import KMeans\n",
    "from sklearn.datasets import make_blobs\n",
    "X, y = make_blobs(random_state=1)\n",
    "kmeans = KMeans(n_clusters=3)\n",
    "\n",
    "kmeans.fit(X)\n",
    "kmeans.labels_"
   ]
  }
 ],
 "metadata": {
  "kernelspec": {
   "display_name": "Python 3",
   "language": "python",
   "name": "python3"
  },
  "language_info": {
   "codemirror_mode": {
    "name": "ipython",
    "version": 3
   },
   "file_extension": ".py",
   "mimetype": "text/x-python",
   "name": "python",
   "nbconvert_exporter": "python",
   "pygments_lexer": "ipython3",
   "version": "3.6.4"
  }
 },
 "nbformat": 4,
 "nbformat_minor": 2
}
