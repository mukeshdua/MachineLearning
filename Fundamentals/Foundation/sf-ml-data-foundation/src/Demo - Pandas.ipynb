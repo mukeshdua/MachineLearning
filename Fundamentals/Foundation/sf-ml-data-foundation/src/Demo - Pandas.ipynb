{
 "cells": [
  {
   "cell_type": "markdown",
   "metadata": {},
   "source": [
    "# Demo: Pandas"
   ]
  },
  {
   "cell_type": "markdown",
   "metadata": {},
   "source": [
    "## Two important datatypes in Pandas \n",
    "* Series (like a vector or array)\n",
    "* Dataframe (like a 2-D array or Excel spreadsheet)"
   ]
  },
  {
   "cell_type": "code",
   "execution_count": 1,
   "metadata": {
    "ExecuteTime": {
     "end_time": "2018-03-15T21:01:47.041971Z",
     "start_time": "2018-03-15T21:01:47.035750Z"
    }
   },
   "outputs": [
    {
     "ename": "ImportError",
     "evalue": "No module named pandas",
     "output_type": "error",
     "traceback": [
      "\u001b[0;31m---------------------------------------------------------------------------\u001b[0m",
      "\u001b[0;31mImportError\u001b[0m                               Traceback (most recent call last)",
      "\u001b[0;32m<ipython-input-1-8c93245936c4>\u001b[0m in \u001b[0;36m<module>\u001b[0;34m()\u001b[0m\n\u001b[0;32m----> 1\u001b[0;31m \u001b[0;32mimport\u001b[0m \u001b[0mpandas\u001b[0m \u001b[0;32mas\u001b[0m \u001b[0mpd\u001b[0m\u001b[0;34m\u001b[0m\u001b[0m\n\u001b[0m\u001b[1;32m      2\u001b[0m \u001b[0;34m\u001b[0m\u001b[0m\n\u001b[1;32m      3\u001b[0m population_dict = {'California': 38332521,\n\u001b[1;32m      4\u001b[0m                        \u001b[0;34m'Texas'\u001b[0m\u001b[0;34m:\u001b[0m \u001b[0;36m26448193\u001b[0m\u001b[0;34m,\u001b[0m\u001b[0;34m\u001b[0m\u001b[0m\n\u001b[1;32m      5\u001b[0m                        \u001b[0;34m'New York'\u001b[0m\u001b[0;34m:\u001b[0m \u001b[0;36m19651127\u001b[0m\u001b[0;34m,\u001b[0m\u001b[0;34m\u001b[0m\u001b[0m\n",
      "\u001b[0;31mImportError\u001b[0m: No module named pandas"
     ]
    }
   ],
   "source": [
    "import pandas as pd\n",
    "\n",
    "population_dict = {'California': 38332521,\n",
    "                       'Texas': 26448193,\n",
    "                       'New York': 19651127,\n",
    "                       'Florida': 19552860,\n",
    "                       'Illinois': 12882135}\n",
    "# create a series from a Python dict\n",
    "population = pd.Series(population_dict)\n",
    "population"
   ]
  },
  {
   "cell_type": "code",
   "execution_count": 2,
   "metadata": {
    "ExecuteTime": {
     "end_time": "2018-03-15T21:01:47.050486Z",
     "start_time": "2018-03-15T21:01:47.043635Z"
    }
   },
   "outputs": [
    {
     "ename": "NameError",
     "evalue": "name 'pd' is not defined",
     "output_type": "error",
     "traceback": [
      "\u001b[0;31m---------------------------------------------------------------------------\u001b[0m",
      "\u001b[0;31mNameError\u001b[0m                                 Traceback (most recent call last)",
      "\u001b[0;32m<ipython-input-2-a1934c7e47e3>\u001b[0m in \u001b[0;36m<module>\u001b[0;34m()\u001b[0m\n\u001b[1;32m      1\u001b[0m area_dict = {'California': 423967, 'Texas': 695662, 'New York': 141297,\n\u001b[1;32m      2\u001b[0m                  'Florida': 170312, 'Illinois': 149995}\n\u001b[0;32m----> 3\u001b[0;31m \u001b[0marea\u001b[0m \u001b[0;34m=\u001b[0m \u001b[0mpd\u001b[0m\u001b[0;34m.\u001b[0m\u001b[0mSeries\u001b[0m\u001b[0;34m(\u001b[0m\u001b[0marea_dict\u001b[0m\u001b[0;34m)\u001b[0m\u001b[0;34m\u001b[0m\u001b[0m\n\u001b[0m\u001b[1;32m      4\u001b[0m \u001b[0marea\u001b[0m\u001b[0;34m\u001b[0m\u001b[0m\n",
      "\u001b[0;31mNameError\u001b[0m: name 'pd' is not defined"
     ]
    }
   ],
   "source": [
    "area_dict = {'California': 423967, 'Texas': 695662, 'New York': 141297,\n",
    "                 'Florida': 170312, 'Illinois': 149995}\n",
    "area = pd.Series(area_dict)\n",
    "area"
   ]
  },
  {
   "cell_type": "code",
   "execution_count": null,
   "metadata": {
    "ExecuteTime": {
     "end_time": "2018-03-15T21:01:47.059367Z",
     "start_time": "2018-03-15T21:01:47.052325Z"
    }
   },
   "outputs": [],
   "source": [
    "# Create a DataFrame from two dict–each will \n",
    "# be a column in the new DataFrame.\n",
    "states = pd.DataFrame({'population': population,\n",
    "                           'area': area})\n",
    "states\n",
    "# Note that print(states) doesn't look as nice. \n",
    "# That's because just typing 'states' as above invokes \n",
    "# the display() function for DataFrames:\n",
    "# from IPython.display import display\n",
    "#\n",
    "# display(states)"
   ]
  },
  {
   "cell_type": "code",
   "execution_count": null,
   "metadata": {
    "ExecuteTime": {
     "end_time": "2018-03-15T21:01:47.065948Z",
     "start_time": "2018-03-15T21:01:47.061439Z"
    }
   },
   "outputs": [],
   "source": [
    "# DataFrames have an index that we can inspect (or change)\n",
    "states.index"
   ]
  },
  {
   "cell_type": "code",
   "execution_count": null,
   "metadata": {
    "ExecuteTime": {
     "end_time": "2018-03-15T21:01:47.072564Z",
     "start_time": "2018-03-15T21:01:47.067898Z"
    }
   },
   "outputs": [],
   "source": [
    "# View column names\n",
    "states.columns"
   ]
  },
  {
   "cell_type": "code",
   "execution_count": null,
   "metadata": {
    "ExecuteTime": {
     "end_time": "2018-03-15T21:01:47.079104Z",
     "start_time": "2018-03-15T21:01:47.074451Z"
    }
   },
   "outputs": [],
   "source": [
    "# View a specific column\n",
    "states['area'] # or states.area"
   ]
  },
  {
   "cell_type": "code",
   "execution_count": null,
   "metadata": {
    "ExecuteTime": {
     "end_time": "2018-03-15T21:01:47.088618Z",
     "start_time": "2018-03-15T21:01:47.080877Z"
    }
   },
   "outputs": [],
   "source": [
    "# Generate a Boolean series based on a Boolean condition\n",
    "# e.g., Which states have an area > 150,000 sq. miles?\n",
    " # or, Which states have a population > 20,000,000\n",
    "large_area = states['area'] > 150_000 \n",
    "large_pop = states['population'] > 20_000_000\n",
    "# We can use the & operator (bitwise AND) to combine conditions\n",
    "states[large_area & large_pop]\n",
    "# states[large_pop]"
   ]
  },
  {
   "cell_type": "code",
   "execution_count": null,
   "metadata": {
    "ExecuteTime": {
     "end_time": "2018-03-15T21:01:47.093939Z",
     "start_time": "2018-03-15T21:01:47.090301Z"
    }
   },
   "outputs": [],
   "source": [
    "# We can see that under the hood, the values in a DataFrame\n",
    "# are represented as a matrix or 2-D array\n",
    "states.values"
   ]
  },
  {
   "cell_type": "markdown",
   "metadata": {},
   "source": [
    "## Reading CSV files into __`pandas`__"
   ]
  },
  {
   "cell_type": "code",
   "execution_count": null,
   "metadata": {
    "ExecuteTime": {
     "end_time": "2018-03-15T21:01:47.387768Z",
     "start_time": "2018-03-15T21:01:47.095747Z"
    }
   },
   "outputs": [],
   "source": [
    "# Read data from a CSV file\n",
    "data = pd.read_csv('data/agg_database_daily.csv')"
   ]
  },
  {
   "cell_type": "code",
   "execution_count": null,
   "metadata": {
    "ExecuteTime": {
     "end_time": "2018-03-15T21:01:47.415274Z",
     "start_time": "2018-03-15T21:01:47.389515Z"
    }
   },
   "outputs": [],
   "source": [
    "# Show the first n rows, default = 5\n",
    "data.head(10)"
   ]
  },
  {
   "cell_type": "code",
   "execution_count": null,
   "metadata": {
    "ExecuteTime": {
     "end_time": "2018-03-15T21:01:47.422111Z",
     "start_time": "2018-03-15T21:01:47.417739Z"
    }
   },
   "outputs": [],
   "source": [
    "# Show the \"shape\" of the data, i.e., rows x columns\n",
    "data.shape"
   ]
  },
  {
   "cell_type": "markdown",
   "metadata": {},
   "source": [
    "## Don't treat first line as header"
   ]
  },
  {
   "cell_type": "code",
   "execution_count": null,
   "metadata": {
    "ExecuteTime": {
     "end_time": "2018-03-15T21:01:47.720442Z",
     "start_time": "2018-03-15T21:01:47.424089Z"
    }
   },
   "outputs": [],
   "source": [
    "data = pd.read_csv('data/agg_database_daily.csv', header=None)"
   ]
  },
  {
   "cell_type": "code",
   "execution_count": null,
   "metadata": {
    "ExecuteTime": {
     "end_time": "2018-03-15T21:01:47.741498Z",
     "start_time": "2018-03-15T21:01:47.722237Z"
    }
   },
   "outputs": [],
   "source": [
    "data.head()"
   ]
  },
  {
   "cell_type": "code",
   "execution_count": null,
   "metadata": {
    "ExecuteTime": {
     "end_time": "2018-03-15T21:01:47.747132Z",
     "start_time": "2018-03-15T21:01:47.743007Z"
    }
   },
   "outputs": [],
   "source": [
    "data.shape"
   ]
  },
  {
   "cell_type": "markdown",
   "metadata": {},
   "source": [
    "## Specify our own headers/column names"
   ]
  },
  {
   "cell_type": "code",
   "execution_count": null,
   "metadata": {
    "ExecuteTime": {
     "end_time": "2018-03-15T21:01:47.752833Z",
     "start_time": "2018-03-15T21:01:47.748568Z"
    }
   },
   "outputs": [],
   "source": [
    "# We saw earlier that we can view the column names.\n",
    "# We can also change them!\n",
    "data.columns = ['date_key','datacenter','superpod','pod','max_redo_size',\n",
    "  'max_active_sessions','max_db_cpu_user','max_peak_buffer','avg_db_cpu_system',\n",
    "  'avg_db_cpu_user','total_db_size_in_tb','used_db_space_in_tb',\n",
    "  'free_db_space_in_tb', 'asm_free_db_space_in_tb','asm_used_db_space_in_tb',\n",
    "  'asm_total_db_size_in_tb', 'last_modified','asm_used_db_space_perc',\n",
    "  'oem_cpu_util','oem_read_io_latency']"
   ]
  },
  {
   "cell_type": "code",
   "execution_count": null,
   "metadata": {
    "ExecuteTime": {
     "end_time": "2018-03-15T21:01:47.774048Z",
     "start_time": "2018-03-15T21:01:47.754514Z"
    }
   },
   "outputs": [],
   "source": [
    "data.head()"
   ]
  },
  {
   "cell_type": "markdown",
   "metadata": {},
   "source": [
    "## What if data are missing?"
   ]
  },
  {
   "cell_type": "code",
   "execution_count": null,
   "metadata": {
    "ExecuteTime": {
     "end_time": "2018-03-15T21:01:47.786134Z",
     "start_time": "2018-03-15T21:01:47.776073Z"
    }
   },
   "outputs": [],
   "source": [
    "data['max_active_sessions']"
   ]
  },
  {
   "cell_type": "markdown",
   "metadata": {},
   "source": [
    "## Handling missing values"
   ]
  },
  {
   "cell_type": "code",
   "execution_count": null,
   "metadata": {
    "ExecuteTime": {
     "end_time": "2018-03-15T21:01:47.975964Z",
     "start_time": "2018-03-15T21:01:47.787837Z"
    }
   },
   "outputs": [],
   "source": [
    "data = pd.read_csv('data/agg_database_daily.csv', header=None,\n",
    "                             na_values=[r'\\N'])\n",
    "data.columns = ['date_key','datacenter','superpod','pod','max_redo_size',\n",
    "'max_active_sessions','max_db_cpu_user','max_peak_buffer','avg_db_cpu_system',\n",
    "'avg_db_cpu_user','total_db_size_in_tb','used_db_space_in_tb',\n",
    "'free_db_space_in_tb','asm_free_db_space_in_tb','asm_used_db_space_in_tb',\n",
    "'asm_total_db_size_in_tb','last_modified','asm_used_db_space_perc',\n",
    "'oem_cpu_util','oem_read_io_latency']"
   ]
  },
  {
   "cell_type": "code",
   "execution_count": null,
   "metadata": {
    "ExecuteTime": {
     "end_time": "2018-03-15T21:01:47.986513Z",
     "start_time": "2018-03-15T21:01:47.977692Z"
    }
   },
   "outputs": [],
   "source": [
    "# Notice anything different here?\n",
    "# Hint: precision\n",
    "data['max_active_sessions']"
   ]
  },
  {
   "cell_type": "markdown",
   "metadata": {},
   "source": [
    "## Dropping missing values"
   ]
  },
  {
   "cell_type": "code",
   "execution_count": null,
   "metadata": {
    "ExecuteTime": {
     "end_time": "2018-03-15T21:01:47.996668Z",
     "start_time": "2018-03-15T21:01:47.988318Z"
    }
   },
   "outputs": [],
   "source": [
    "data['max_active_sessions'].dropna()"
   ]
  },
  {
   "cell_type": "markdown",
   "metadata": {},
   "source": [
    "# Same Idea, Different Source: SQLite Data\n",
    "* we will need to install sqlite3 if not already installed:\n",
    "  * __`~/anaconda3/bin/conda install -c blaze sqlite3`__"
   ]
  },
  {
   "cell_type": "markdown",
   "metadata": {},
   "source": [
    "## First we need to create a connection object..."
   ]
  },
  {
   "cell_type": "code",
   "execution_count": null,
   "metadata": {
    "ExecuteTime": {
     "end_time": "2018-03-15T21:01:48.001548Z",
     "start_time": "2018-03-15T21:01:47.998369Z"
    }
   },
   "outputs": [],
   "source": [
    "import sqlite3\n",
    "conn = sqlite3.connect(\"data/flights.db\")"
   ]
  },
  {
   "cell_type": "markdown",
   "metadata": {},
   "source": [
    "## ...next, create a cursor object and call its execute() method"
   ]
  },
  {
   "cell_type": "code",
   "execution_count": null,
   "metadata": {
    "ExecuteTime": {
     "end_time": "2018-03-15T21:01:48.005835Z",
     "start_time": "2018-03-15T21:01:48.003316Z"
    }
   },
   "outputs": [],
   "source": [
    "cur = conn.cursor()"
   ]
  },
  {
   "cell_type": "code",
   "execution_count": null,
   "metadata": {
    "ExecuteTime": {
     "end_time": "2018-03-15T21:01:48.014000Z",
     "start_time": "2018-03-15T21:01:48.007387Z"
    }
   },
   "outputs": [],
   "source": [
    "cur.execute(\"select * from airlines limit 25;\")\n",
    "results = cur.fetchall()\n",
    "results"
   ]
  },
  {
   "cell_type": "markdown",
   "metadata": {},
   "source": [
    "## We'll use __`pandas`__ to view the data easier..."
   ]
  },
  {
   "cell_type": "code",
   "execution_count": null,
   "metadata": {
    "ExecuteTime": {
     "end_time": "2018-03-15T21:01:48.030828Z",
     "start_time": "2018-03-15T21:01:48.015678Z"
    }
   },
   "outputs": [],
   "source": [
    "import pandas as pd\n",
    "import sqlite3\n",
    "\n",
    "conn = sqlite3.connect(\"data/flights.db\")\n",
    "data = pd.read_sql_query(\"select * from airlines limit 50;\", conn)\n",
    "data.head(25) # only display first 5 rows"
   ]
  },
  {
   "cell_type": "code",
   "execution_count": null,
   "metadata": {},
   "outputs": [],
   "source": []
  }
 ],
 "metadata": {
  "kernelspec": {
   "display_name": "Python 2",
   "language": "python",
   "name": "python2"
  },
  "language_info": {
   "codemirror_mode": {
    "name": "ipython",
    "version": 3
   },
   "file_extension": ".py",
   "mimetype": "text/x-python",
   "name": "python",
   "nbconvert_exporter": "python",
   "pygments_lexer": "ipython3",
   "version": "3.6.4"
  }
 },
 "nbformat": 4,
 "nbformat_minor": 2
}
