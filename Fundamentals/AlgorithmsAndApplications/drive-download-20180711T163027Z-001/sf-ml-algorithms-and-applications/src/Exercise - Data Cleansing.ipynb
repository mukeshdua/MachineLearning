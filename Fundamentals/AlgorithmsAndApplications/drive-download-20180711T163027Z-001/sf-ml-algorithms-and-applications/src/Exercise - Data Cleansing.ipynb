{
 "cells": [
  {
   "cell_type": "markdown",
   "metadata": {},
   "source": [
    "# Goal: Read in a \"dirty\" data file and clean it up\n",
    "* known problems with the data\n",
    "  * typos\n",
    "  * missing data\n",
    "  * incorrect formatting\n"
   ]
  },
  {
   "cell_type": "markdown",
   "metadata": {
    "collapsed": true
   },
   "source": [
    "## Read in the data file `data/WA_Fn-UseC_-Sales-Win-Loss-DIRTY.csv`"
   ]
  },
  {
   "cell_type": "code",
   "execution_count": 2,
   "metadata": {},
   "outputs": [],
   "source": [
    "import pandas as pd\n",
    "import numpy as np\n",
    "data = pd.read_csv('data/WA_Fn-UseC_-Sales-Win-Loss-DIRTY.csv')"
   ]
  },
  {
   "cell_type": "markdown",
   "metadata": {},
   "source": [
    "## Take a look at the data"
   ]
  },
  {
   "cell_type": "code",
   "execution_count": 4,
   "metadata": {},
   "outputs": [
    {
     "data": {
      "text/html": [
       "<div>\n",
       "<style scoped>\n",
       "    .dataframe tbody tr th:only-of-type {\n",
       "        vertical-align: middle;\n",
       "    }\n",
       "\n",
       "    .dataframe tbody tr th {\n",
       "        vertical-align: top;\n",
       "    }\n",
       "\n",
       "    .dataframe thead th {\n",
       "        text-align: right;\n",
       "    }\n",
       "</style>\n",
       "<table border=\"1\" class=\"dataframe\">\n",
       "  <thead>\n",
       "    <tr style=\"text-align: right;\">\n",
       "      <th></th>\n",
       "      <th>Unnamed: 0</th>\n",
       "      <th>Opportunity Number</th>\n",
       "      <th>Supplies Subgroup</th>\n",
       "      <th>Supplies Group</th>\n",
       "      <th>Region</th>\n",
       "      <th>Route To Market</th>\n",
       "      <th>Elapsed Days In Sales Stage</th>\n",
       "      <th>Opportunity Result</th>\n",
       "      <th>Sales Stage Change Count</th>\n",
       "      <th>Total Days Identified Through Closing</th>\n",
       "      <th>...</th>\n",
       "      <th>Opportunity Amount USD</th>\n",
       "      <th>Client Size By Revenue</th>\n",
       "      <th>Client Size By Employee Count</th>\n",
       "      <th>Revenue From Client Past Two Years</th>\n",
       "      <th>Competitor Type</th>\n",
       "      <th>Ratio Days Identified To Total Days</th>\n",
       "      <th>Ratio Days Validated To Total Days</th>\n",
       "      <th>Ratio Days Qualified To Total Days</th>\n",
       "      <th>Deal Size Category</th>\n",
       "      <th>Opportunity Next Step</th>\n",
       "    </tr>\n",
       "  </thead>\n",
       "  <tbody>\n",
       "    <tr>\n",
       "      <th>0</th>\n",
       "      <td>0</td>\n",
       "      <td>1641984</td>\n",
       "      <td>Exterior Accessories</td>\n",
       "      <td>Car Accessories</td>\n",
       "      <td>Northwest</td>\n",
       "      <td>Fields Sales</td>\n",
       "      <td>76</td>\n",
       "      <td>Won</td>\n",
       "      <td>13</td>\n",
       "      <td>104</td>\n",
       "      <td>...</td>\n",
       "      <td>0</td>\n",
       "      <td>5</td>\n",
       "      <td>5</td>\n",
       "      <td>0</td>\n",
       "      <td>Unknown</td>\n",
       "      <td>0.69636</td>\n",
       "      <td>0.113985</td>\n",
       "      <td>0.154215</td>\n",
       "      <td>1</td>\n",
       "      <td>Call</td>\n",
       "    </tr>\n",
       "    <tr>\n",
       "      <th>1</th>\n",
       "      <td>1</td>\n",
       "      <td>1658010</td>\n",
       "      <td>NaN</td>\n",
       "      <td>Car Accessories</td>\n",
       "      <td>Pacific</td>\n",
       "      <td>Reseller</td>\n",
       "      <td>63</td>\n",
       "      <td>Loss</td>\n",
       "      <td>2</td>\n",
       "      <td>163</td>\n",
       "      <td>...</td>\n",
       "      <td>$0</td>\n",
       "      <td>3</td>\n",
       "      <td>5</td>\n",
       "      <td>0</td>\n",
       "      <td>Unknown</td>\n",
       "      <td>0.00000</td>\n",
       "      <td>1.000000</td>\n",
       "      <td>0.000000</td>\n",
       "      <td>1</td>\n",
       "      <td>NaN</td>\n",
       "    </tr>\n",
       "    <tr>\n",
       "      <th>2</th>\n",
       "      <td>2</td>\n",
       "      <td>1674737</td>\n",
       "      <td>Motorcycle Parts</td>\n",
       "      <td>Performance &amp; Non-auto</td>\n",
       "      <td>Pacific</td>\n",
       "      <td>Reseller</td>\n",
       "      <td>24</td>\n",
       "      <td>Won</td>\n",
       "      <td>7</td>\n",
       "      <td>82</td>\n",
       "      <td>...</td>\n",
       "      <td>7750</td>\n",
       "      <td>1</td>\n",
       "      <td>1</td>\n",
       "      <td>0</td>\n",
       "      <td>Unknown</td>\n",
       "      <td>1.00000</td>\n",
       "      <td>0.000000</td>\n",
       "      <td>0.000000</td>\n",
       "      <td>1</td>\n",
       "      <td>Pending</td>\n",
       "    </tr>\n",
       "    <tr>\n",
       "      <th>3</th>\n",
       "      <td>3</td>\n",
       "      <td>1675224</td>\n",
       "      <td>Shelters &amp; RV</td>\n",
       "      <td>Performance &amp; Non-auto</td>\n",
       "      <td>NaN</td>\n",
       "      <td>Reseller</td>\n",
       "      <td>16</td>\n",
       "      <td>Loss</td>\n",
       "      <td>5</td>\n",
       "      <td>124</td>\n",
       "      <td>...</td>\n",
       "      <td>$$0</td>\n",
       "      <td>1</td>\n",
       "      <td>1</td>\n",
       "      <td>0</td>\n",
       "      <td>Known</td>\n",
       "      <td>1.00000</td>\n",
       "      <td>0.000000</td>\n",
       "      <td>0.000000</td>\n",
       "      <td>1</td>\n",
       "      <td>NaN</td>\n",
       "    </tr>\n",
       "    <tr>\n",
       "      <th>4</th>\n",
       "      <td>4</td>\n",
       "      <td>1689785</td>\n",
       "      <td>Exterior Accessories</td>\n",
       "      <td>Car Accessories</td>\n",
       "      <td>Pacific</td>\n",
       "      <td>Reseller</td>\n",
       "      <td>69</td>\n",
       "      <td>Loss</td>\n",
       "      <td>11</td>\n",
       "      <td>91</td>\n",
       "      <td>...</td>\n",
       "      <td>69756</td>\n",
       "      <td>1</td>\n",
       "      <td>1</td>\n",
       "      <td>0</td>\n",
       "      <td>Unknown</td>\n",
       "      <td>0.00000</td>\n",
       "      <td>0.141125</td>\n",
       "      <td>0.000000</td>\n",
       "      <td>4</td>\n",
       "      <td>NaN</td>\n",
       "    </tr>\n",
       "  </tbody>\n",
       "</table>\n",
       "<p>5 rows × 21 columns</p>\n",
       "</div>"
      ],
      "text/plain": [
       "   Unnamed: 0  Opportunity Number     Supplies Subgroup  \\\n",
       "0           0             1641984  Exterior Accessories   \n",
       "1           1             1658010                   NaN   \n",
       "2           2             1674737      Motorcycle Parts   \n",
       "3           3             1675224         Shelters & RV   \n",
       "4           4             1689785  Exterior Accessories   \n",
       "\n",
       "           Supplies Group     Region Route To Market  \\\n",
       "0         Car Accessories  Northwest    Fields Sales   \n",
       "1         Car Accessories    Pacific        Reseller   \n",
       "2  Performance & Non-auto    Pacific        Reseller   \n",
       "3  Performance & Non-auto        NaN        Reseller   \n",
       "4         Car Accessories    Pacific        Reseller   \n",
       "\n",
       "   Elapsed Days In Sales Stage Opportunity Result  Sales Stage Change Count  \\\n",
       "0                           76                Won                        13   \n",
       "1                           63               Loss                         2   \n",
       "2                           24                Won                         7   \n",
       "3                           16               Loss                         5   \n",
       "4                           69               Loss                        11   \n",
       "\n",
       "   Total Days Identified Through Closing          ...            \\\n",
       "0                                    104          ...             \n",
       "1                                    163          ...             \n",
       "2                                     82          ...             \n",
       "3                                    124          ...             \n",
       "4                                     91          ...             \n",
       "\n",
       "   Opportunity Amount USD Client Size By Revenue  \\\n",
       "0                       0                      5   \n",
       "1                      $0                      3   \n",
       "2                    7750                      1   \n",
       "3                     $$0                      1   \n",
       "4                   69756                      1   \n",
       "\n",
       "   Client Size By Employee Count  Revenue From Client Past Two Years  \\\n",
       "0                              5                                   0   \n",
       "1                              5                                   0   \n",
       "2                              1                                   0   \n",
       "3                              1                                   0   \n",
       "4                              1                                   0   \n",
       "\n",
       "   Competitor Type Ratio Days Identified To Total Days  \\\n",
       "0          Unknown                             0.69636   \n",
       "1          Unknown                             0.00000   \n",
       "2          Unknown                             1.00000   \n",
       "3            Known                             1.00000   \n",
       "4          Unknown                             0.00000   \n",
       "\n",
       "   Ratio Days Validated To Total Days  Ratio Days Qualified To Total Days  \\\n",
       "0                            0.113985                            0.154215   \n",
       "1                            1.000000                            0.000000   \n",
       "2                            0.000000                            0.000000   \n",
       "3                            0.000000                            0.000000   \n",
       "4                            0.141125                            0.000000   \n",
       "\n",
       "   Deal Size Category  Opportunity Next Step  \n",
       "0                   1                   Call  \n",
       "1                   1                    NaN  \n",
       "2                   1                Pending  \n",
       "3                   1                    NaN  \n",
       "4                   4                    NaN  \n",
       "\n",
       "[5 rows x 21 columns]"
      ]
     },
     "execution_count": 4,
     "metadata": {},
     "output_type": "execute_result"
    }
   ],
   "source": [
    "data.head()"
   ]
  },
  {
   "cell_type": "markdown",
   "metadata": {},
   "source": [
    "## Take a look at the column names\n",
    "* remove anything that doesn't look right"
   ]
  },
  {
   "cell_type": "code",
   "execution_count": 5,
   "metadata": {},
   "outputs": [
    {
     "data": {
      "text/plain": [
       "Index(['Unnamed: 0', 'Opportunity Number', 'Supplies Subgroup',\n",
       "       'Supplies Group', 'Region', 'Route To Market',\n",
       "       'Elapsed Days In Sales Stage', 'Opportunity Result',\n",
       "       'Sales Stage Change Count', 'Total Days Identified Through Closing',\n",
       "       'Total Days Identified Through Qualified', 'Opportunity Amount USD',\n",
       "       'Client Size By Revenue', 'Client Size By Employee Count',\n",
       "       'Revenue From Client Past Two Years', 'Competitor Type',\n",
       "       'Ratio Days Identified To Total Days',\n",
       "       'Ratio Days Validated To Total Days',\n",
       "       'Ratio Days Qualified To Total Days', 'Deal Size Category',\n",
       "       'Opportunity Next Step'],\n",
       "      dtype='object')"
      ]
     },
     "execution_count": 5,
     "metadata": {},
     "output_type": "execute_result"
    }
   ],
   "source": [
    "data.columns"
   ]
  },
  {
   "cell_type": "code",
   "execution_count": 6,
   "metadata": {},
   "outputs": [
    {
     "data": {
      "text/plain": [
       "Index(['Opportunity Number', 'Supplies Subgroup', 'Supplies Group', 'Region',\n",
       "       'Route To Market', 'Elapsed Days In Sales Stage', 'Opportunity Result',\n",
       "       'Sales Stage Change Count', 'Total Days Identified Through Closing',\n",
       "       'Total Days Identified Through Qualified', 'Opportunity Amount USD',\n",
       "       'Client Size By Revenue', 'Client Size By Employee Count',\n",
       "       'Revenue From Client Past Two Years', 'Competitor Type',\n",
       "       'Ratio Days Identified To Total Days',\n",
       "       'Ratio Days Validated To Total Days',\n",
       "       'Ratio Days Qualified To Total Days', 'Deal Size Category',\n",
       "       'Opportunity Next Step'],\n",
       "      dtype='object')"
      ]
     },
     "execution_count": 6,
     "metadata": {},
     "output_type": "execute_result"
    }
   ],
   "source": [
    "data = data.drop('Unnamed: 0', axis=1)\n",
    "data.columns"
   ]
  },
  {
   "cell_type": "code",
   "execution_count": 7,
   "metadata": {},
   "outputs": [
    {
     "data": {
      "text/plain": [
       "Index(['Opportunity Number', 'Supplies Subgroup', 'Supplies Group', 'Region',\n",
       "       'Route To Market', 'Elapsed Days In Sales Stage', 'Opportunity Result',\n",
       "       'Sales Stage Change Count', 'Total Days Identified Through Closing',\n",
       "       'Total Days Identified Through Qualified', 'Opportunity Amount USD',\n",
       "       'Client Size By Revenue', 'Client Size By Employee Count',\n",
       "       'Revenue From Client Past Two Years', 'Competitor Type',\n",
       "       'Ratio Days Identified To Total Days',\n",
       "       'Ratio Days Validated To Total Days',\n",
       "       'Ratio Days Qualified To Total Days', 'Deal Size Category'],\n",
       "      dtype='object')"
      ]
     },
     "execution_count": 7,
     "metadata": {},
     "output_type": "execute_result"
    }
   ],
   "source": [
    "data = data.drop('Opportunity Next Step', axis=1)\n",
    "data.columns"
   ]
  },
  {
   "cell_type": "markdown",
   "metadata": {},
   "source": [
    "## Find typos\n",
    "* Hint: take a look at text-based fields and use the __`value_counts()`__ method to see the counts of each value"
   ]
  },
  {
   "cell_type": "code",
   "execution_count": 9,
   "metadata": {},
   "outputs": [
    {
     "data": {
      "text/plain": [
       "Car Accessories            49806\n",
       "Performance & Non-auto     27321\n",
       "Tires & Wheels               609\n",
       "Car Electronics              281\n",
       "Pefforrmance & NNonauto        1\n",
       "Performance  & Non-auto        1\n",
       "Performmanc & Npn-augp         1\n",
       "Car Acceessories               1\n",
       "Performance &  Non-auto        1\n",
       "Car Accssoriez                 1\n",
       "ar Avccessories                1\n",
       "CCar Acessories                1\n",
       "Name: Supplies Group, dtype: int64"
      ]
     },
     "execution_count": 9,
     "metadata": {},
     "output_type": "execute_result"
    }
   ],
   "source": [
    "data['Supplies Group'].value_counts()"
   ]
  },
  {
   "cell_type": "markdown",
   "metadata": {},
   "source": [
    "# Locate missing data–what do we do about it?\n",
    "* It's probably OK to drop a small amount of missing data, but if a lot of data is missing, what should we do? (Hint: descriptive statistics)"
   ]
  },
  {
   "cell_type": "code",
   "execution_count": 11,
   "metadata": {},
   "outputs": [
    {
     "data": {
      "text/plain": [
       "Car Accessoriess           49810\n",
       "Performance & Non-auto     27321\n",
       "Tires & Wheels               609\n",
       "Car Electronics              281\n",
       "Pefforrmance & NNonauto        1\n",
       "Performance  & Non-auto        1\n",
       "Performmanc & Npn-augp         1\n",
       "Performance &  Non-auto        1\n",
       "Name: Supplies Group, dtype: int64"
      ]
     },
     "execution_count": 11,
     "metadata": {},
     "output_type": "execute_result"
    }
   ],
   "source": [
    "import re\n",
    "data['Supplies Group'] = data['Supplies Group'].apply(lambda s: re.sub('.*r A.*', 'Car Accessoriess', s))\n",
    "data['Supplies Group'].value_counts()"
   ]
  },
  {
   "cell_type": "code",
   "execution_count": 12,
   "metadata": {},
   "outputs": [
    {
     "data": {
      "text/plain": [
       "Car Accessoriess           49810\n",
       "Performance & Non-auto     27324\n",
       "Tires & Wheels               609\n",
       "Car Electronics              281\n",
       "Performance &  Non-auto        1\n",
       "Name: Supplies Group, dtype: int64"
      ]
     },
     "execution_count": 12,
     "metadata": {},
     "output_type": "execute_result"
    }
   ],
   "source": [
    "data['Supplies Group'] = data['Supplies Group'].apply(lambda s: re.sub('.*& N.*', 'Performance & Non-auto', s))\n",
    "data['Supplies Group'].value_counts()"
   ]
  },
  {
   "cell_type": "code",
   "execution_count": 13,
   "metadata": {},
   "outputs": [
    {
     "data": {
      "text/plain": [
       "Car Accessoriess          49810\n",
       "Performance & Non-auto    27325\n",
       "Tires & Wheels              609\n",
       "Car Electronics             281\n",
       "Name: Supplies Group, dtype: int64"
      ]
     },
     "execution_count": 13,
     "metadata": {},
     "output_type": "execute_result"
    }
   ],
   "source": [
    "import re\n",
    "data['Supplies Group'] = data['Supplies Group'].apply(lambda s: re.sub('^P.*', 'Performance & Non-auto', s))\n",
    "data['Supplies Group'].value_counts()"
   ]
  },
  {
   "cell_type": "code",
   "execution_count": 14,
   "metadata": {},
   "outputs": [
    {
     "data": {
      "text/plain": [
       "Car Accessories           49810\n",
       "Performance & Non-auto    27325\n",
       "Tires & Wheels              609\n",
       "Car Electronics             281\n",
       "Name: Supplies Group, dtype: int64"
      ]
     },
     "execution_count": 14,
     "metadata": {},
     "output_type": "execute_result"
    }
   ],
   "source": [
    "data['Supplies Group'] = data['Supplies Group'].apply(lambda s: re.sub('.*r A.*', 'Car Accessories', s))\n",
    "data['Supplies Group'].value_counts()"
   ]
  },
  {
   "cell_type": "code",
   "execution_count": 15,
   "metadata": {},
   "outputs": [
    {
     "data": {
      "text/plain": [
       "Midwest         21019\n",
       "Pacific         15142\n",
       "Northwest        9552\n",
       "Southeast        9232\n",
       "Southwest        8153\n",
       "Mid-Atlantic     7568\n",
       "Northeast        7358\n",
       "Name: Region, dtype: int64"
      ]
     },
     "execution_count": 15,
     "metadata": {},
     "output_type": "execute_result"
    }
   ],
   "source": [
    "data['Region'].value_counts()"
   ]
  },
  {
   "cell_type": "markdown",
   "metadata": {},
   "source": [
    "## Formatting errors\n",
    "* it's not uncommon for data files to have thing like dates formatting inconsistently\n",
    "* there are no dates in these data, but one column is formatted inconsistenly"
   ]
  },
  {
   "cell_type": "code",
   "execution_count": null,
   "metadata": {},
   "outputs": [],
   "source": []
  },
  {
   "cell_type": "markdown",
   "metadata": {},
   "source": [
    "## Write your cleansed data to the file __`data/WA_Fn-UseC_-Sales-Win-Loss-CLEAN.csv`__\n"
   ]
  },
  {
   "cell_type": "code",
   "execution_count": null,
   "metadata": {
    "collapsed": true
   },
   "outputs": [],
   "source": []
  }
 ],
 "metadata": {
  "kernelspec": {
   "display_name": "Python 3",
   "language": "python",
   "name": "python3"
  },
  "language_info": {
   "codemirror_mode": {
    "name": "ipython",
    "version": 3
   },
   "file_extension": ".py",
   "mimetype": "text/x-python",
   "name": "python",
   "nbconvert_exporter": "python",
   "pygments_lexer": "ipython3",
   "version": "3.6.4"
  }
 },
 "nbformat": 4,
 "nbformat_minor": 2
}
