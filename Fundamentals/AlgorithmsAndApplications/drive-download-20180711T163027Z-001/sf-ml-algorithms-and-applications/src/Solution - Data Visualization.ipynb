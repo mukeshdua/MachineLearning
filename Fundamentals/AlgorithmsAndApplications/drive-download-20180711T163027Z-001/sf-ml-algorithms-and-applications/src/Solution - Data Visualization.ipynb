{
 "cells": [
  {
   "cell_type": "markdown",
   "metadata": {},
   "source": [
    "# Exercise: Visualization"
   ]
  },
  {
   "cell_type": "markdown",
   "metadata": {},
   "source": [
    "## First, remember to render images inline..."
   ]
  },
  {
   "cell_type": "code",
   "execution_count": null,
   "metadata": {
    "collapsed": true
   },
   "outputs": [],
   "source": [
    "%matplotlib inline"
   ]
  },
  {
   "cell_type": "markdown",
   "metadata": {},
   "source": [
    "## You'll need __`matplotlib`__ and __`numpy`__\n",
    "* don't forget their standard abbreviations"
   ]
  },
  {
   "cell_type": "code",
   "execution_count": null,
   "metadata": {
    "collapsed": true
   },
   "outputs": [],
   "source": [
    "import matplotlib.pyplot as plt\n",
    "import numpy as np"
   ]
  },
  {
   "cell_type": "markdown",
   "metadata": {},
   "source": [
    "## Simple Plot\n",
    "\n",
    "1. Create __`x`__, a vector of data between 0 and 2 with a step size of 0.01\n",
    "* Generate corresponding data __`y`__ using the function $ 1 + sin(2\\pi x) $\n",
    "* Plot these data\n",
    "* Set the x label to \"X-label\"\n",
    "* Set the y label to \"Y-label\"\n",
    "* Set the title to \"Simple Plot\"\n",
    "* Save the figure to a file called \"simple.png\"\n"
   ]
  },
  {
   "cell_type": "code",
   "execution_count": null,
   "metadata": {
    "collapsed": true
   },
   "outputs": [],
   "source": [
    "x = np.arange(0.0, 2.0, 0.01)\n",
    "y = 1 + np.sin(2 * np.pi * x)\n",
    "\n",
    "fig, ax = plt.subplots()\n",
    "\n",
    "ax.plot(x, y)\n",
    "ax.set(xlabel='X-label', ylabel='Y-label', title='Simple Plot')\n",
    "fig.savefig(\"simple.png\")"
   ]
  },
  {
   "cell_type": "markdown",
   "metadata": {},
   "source": [
    "## Scatter Plot\n",
    "* Generate a scatter plot of 100 random __`x`__ values and 100 random __`y`__ values"
   ]
  },
  {
   "cell_type": "code",
   "execution_count": null,
   "metadata": {
    "collapsed": true
   },
   "outputs": [],
   "source": [
    "n = 100\n",
    "x = np.random.random(n)\n",
    "y = np.random.random(n)\n",
    "\n",
    "plt.scatter(x, y);"
   ]
  },
  {
   "cell_type": "markdown",
   "metadata": {},
   "source": [
    "## Colored Scatter Plot\n",
    "* Now generate a scatterplot with 100 random color values that will be mapped to the default color map"
   ]
  },
  {
   "cell_type": "code",
   "execution_count": null,
   "metadata": {
    "collapsed": true
   },
   "outputs": [],
   "source": [
    "n = 100\n",
    "x = np.random.rand(n)\n",
    "y = np.random.rand(n)\n",
    "colors = np.random.rand(n)\n",
    "\n",
    "plt.scatter(x, y, c=colors);"
   ]
  },
  {
   "cell_type": "markdown",
   "metadata": {},
   "source": [
    "## Color/Size Scatter Plot\n",
    "* Repeat the last plot, but change the size of each of the circles to be a random number between 0.0 and 1.0 * 100\n",
    "* __Note:__ you probably want to modify the opacity in case the circles stack on top of one another"
   ]
  },
  {
   "cell_type": "code",
   "execution_count": null,
   "metadata": {
    "collapsed": true
   },
   "outputs": [],
   "source": [
    "n = 100\n",
    "x = np.random.rand(n)\n",
    "y = np.random.rand(n)\n",
    "colors = np.random.rand(n)\n",
    "\n",
    "area = 50 * np.random.rand(n)\n",
    "\n",
    "plt.scatter(x, y, c=colors, s=area, alpha=0.5);"
   ]
  },
  {
   "cell_type": "markdown",
   "metadata": {},
   "source": [
    "## Histogram\n",
    "* Create a histogram of 100 random values from a normal distribution"
   ]
  },
  {
   "cell_type": "code",
   "execution_count": null,
   "metadata": {
    "collapsed": true
   },
   "outputs": [],
   "source": [
    "n = 100\n",
    "x = np.random.normal(size=n)\n",
    "fig, ax = plt.subplots()\n",
    "\n",
    "ax.hist(x)\n",
    "\n",
    "plt.show()"
   ]
  },
  {
   "cell_type": "markdown",
   "metadata": {},
   "source": [
    "## Overlayed Histogram\n",
    "* Create two datasets with 100 random values each from a normal distribution\n",
    "* Display both  on the same plot\n",
    "* Make sure they are readable so adjust the transparency for each histogram\n",
    "* Display a legend"
   ]
  },
  {
   "cell_type": "code",
   "execution_count": null,
   "metadata": {
    "collapsed": true
   },
   "outputs": [],
   "source": [
    "n = 100\n",
    "x1 = np.random.normal(size=n)\n",
    "x2 = np.random.normal(size=n)\n",
    "\n",
    "fig, ax = plt.subplots()\n",
    "\n",
    "ax.hist(x1, alpha=0.5, label='x1')\n",
    "ax.hist(x2, alpha=0.5, label='x2')\n",
    "ax.legend()\n",
    "\n",
    "plt.show()"
   ]
  },
  {
   "cell_type": "markdown",
   "metadata": {},
   "source": [
    "## Side-by-side Histograms\n",
    "* Create two side-by-side histograms of separate datasets with 100 random values each from a normal distribution\n",
    "* Use 30 bins\n",
    "* Make it so the plots share their axes"
   ]
  },
  {
   "cell_type": "code",
   "execution_count": null,
   "metadata": {
    "collapsed": true
   },
   "outputs": [],
   "source": [
    "n = 100\n",
    "x1 = np.random.normal(size=n)\n",
    "x2 = np.random.normal(size=n)\n",
    "\n",
    "fig, (ax1, ax2) = plt.subplots(nrows=1, ncols=2, sharex=True, sharey=True)\n",
    "\n",
    "ax1.hist(x1, bins=30)\n",
    "ax2.hist(x2, bins=30)\n",
    "\n",
    "plt.show()"
   ]
  },
  {
   "cell_type": "markdown",
   "metadata": {},
   "source": [
    "## Retrieve Data from Pandas Exercise\n",
    "1. Open the __`pandas`__ exercise and run it all again if you have closed it\n",
    "* Add a final cell containing the following: __`%store merged`__ and run it–that will store the data element and makes it available to other notebooks\n",
    "* Add a cell below to retrieve these data with the command __`%store -r merged`__\n",
    "* Verify that the data is what you expect\n",
    "* Create two side-by-side barcharts comparing the raw complaints per state data against the normalized complaints per state data and label the graphs accordingly"
   ]
  },
  {
   "cell_type": "code",
   "execution_count": null,
   "metadata": {
    "collapsed": true
   },
   "outputs": [],
   "source": [
    "%store -r merged"
   ]
  },
  {
   "cell_type": "code",
   "execution_count": null,
   "metadata": {
    "collapsed": true
   },
   "outputs": [],
   "source": [
    "merged.sort_values('population_normalized', ascending=False)[:10]"
   ]
  },
  {
   "cell_type": "code",
   "execution_count": null,
   "metadata": {
    "collapsed": true
   },
   "outputs": [],
   "source": [
    "normalized = merged.sort_values('population_normalized', ascending=False)[:10]\n",
    "raw = merged.sort_values('Count', ascending=False)[:10]\n",
    "xticks = np.arange(10)\n",
    "\n",
    "fig, (ax1, ax2) = plt.subplots(nrows=1, ncols=2, sharex=False, sharey=True)\n",
    "ax1.bar(xticks, raw['Count'])\n",
    "ax1.set_title('Complaints by States\\n(raw)')\n",
    "ax1.set_xticks(xticks)\n",
    "ax1.set_xticklabels(raw['State'])\n",
    "\n",
    "ax2.bar(xticks, normalized['Count'])\n",
    "ax2.set_title('Complaints by States\\n(normalized for population)')\n",
    "ax2.set_xticks(xticks)\n",
    "ax2.set_xticklabels(normalized['State'])\n",
    "\n",
    "plt.show()"
   ]
  },
  {
   "cell_type": "markdown",
   "metadata": {},
   "source": [
    "## Write the code to produce this figure\n",
    "![power plot](images/power.png)\n",
    "* the x axis represents time intervals __`t`__ of 200ms\n",
    "* the y axis represents $ t, t^2, t^3 $"
   ]
  },
  {
   "cell_type": "code",
   "execution_count": null,
   "metadata": {
    "collapsed": false
   },
   "outputs": [],
   "source": [
    "import numpy as np\n",
    "import matplotlib.pyplot as plt\n",
    "\n",
    "# Sampled time at 200ms intervals\n",
    "t = np.arange(0., 5., 0.2)\n",
    "\n",
    "# green dashes, blue squares and red triangles\n",
    "plt.plot(t, t, 'g--', t, t**2, 'bs', t, t**3, 'r^')\n",
    "plt.show()"
   ]
  },
  {
   "cell_type": "markdown",
   "metadata": {},
   "source": [
    "## Write the code to produce this bar chart\n",
    "![popularity](images/popularity.png)\n",
    "* the popularity values are __`22.2, 17.6, 8.8, 8, 7.7, 6.7`__"
   ]
  },
  {
   "cell_type": "code",
   "execution_count": null,
   "metadata": {
    "collapsed": false
   },
   "outputs": [],
   "source": [
    "import matplotlib.pyplot as plt\n",
    "x = ['Java', 'Python', 'PHP', 'JavaScript', 'C#', 'C++']\n",
    "popularity = [22.2, 17.6, 8.8, 8, 7.7, 6.7]\n",
    "x_pos = range(6)\n",
    "plt.bar(x_pos, popularity, color='blue')\n",
    "plt.xlabel(\"Languages\")\n",
    "plt.ylabel(\"Popularity\")\n",
    "plt.title(\"Popularity of Programming Language\\n\" + \"Worldwide, Oct 2017 compared to a year ago\")\n",
    "plt.xticks(x_pos, x)\n",
    "# Turn on the grid\n",
    "plt.minorticks_on()\n",
    "plt.grid(which='major', linestyle='-', linewidth='0.5', color='red')\n",
    "# Customize the minor grid\n",
    "plt.grid(which='minor', linestyle=':', linewidth='0.5', color='black')\n",
    "plt.show()"
   ]
  },
  {
   "cell_type": "markdown",
   "metadata": {},
   "source": [
    "## Understanding a Complex Figure\n",
    "* Read through the following code and then run the cell to see what it produces\n",
    "* Trace through the code once the image is drawn and make sure you understand what is going on\n",
    "* Consider commenting out bits of code to determine what each part is doing\n",
    "* Look up the documentation for any feature we haven't covered"
   ]
  },
  {
   "cell_type": "code",
   "execution_count": null,
   "metadata": {
    "collapsed": true
   },
   "outputs": [],
   "source": [
    "# https://matplotlib.org/examples/showcase/anatomy.html\n",
    "\n",
    "import numpy as np\n",
    "import matplotlib.pyplot as plt\n",
    "from matplotlib.ticker import AutoMinorLocator, MultipleLocator, FuncFormatter\n",
    "\n",
    "np.random.seed(19680801)\n",
    "\n",
    "X = np.linspace(0.5, 3.5, 100)\n",
    "Y1 = 3 + np.cos(X)\n",
    "Y2 = 1  +np.cos(1 + X / 0.75) / 2\n",
    "Y3 = np.random.uniform(Y1, Y2, len(X))\n",
    " \n",
    "fig = plt.figure(figsize=(8, 8))\n",
    "ax = fig.add_subplot(1, 1, 1, aspect=1)\n",
    "\n",
    "def minor_tick(x, pos):\n",
    "    if not x % 1.0:\n",
    "        return ''\n",
    "    return '%.2f' % x\n",
    "\n",
    "ax.xaxis.set_major_locator(MultipleLocator(1.000))\n",
    "ax.xaxis.set_minor_locator(AutoMinorLocator(4))\n",
    "ax.yaxis.set_major_locator(MultipleLocator(1.000))\n",
    "ax.yaxis.set_minor_locator(AutoMinorLocator(4))\n",
    "ax.xaxis.set_minor_formatter(FuncFormatter(minor_tick))\n",
    "\n",
    "ax.set_xlim(0, 4)\n",
    "ax.set_ylim(0, 4)\n",
    "\n",
    "ax.tick_params(which='major', width=1.0)\n",
    "ax.tick_params(which='major', length=10)\n",
    "ax.tick_params(which='minor', width=1.0, labelsize=10)\n",
    "ax.tick_params(which='minor', length=5, labelsize=10, labelcolor='0.25')\n",
    "\n",
    "ax.grid(linestyle=\"--\", linewidth=0.5, color='.25', zorder=-10)\n",
    "\n",
    "ax.plot(X, Y1, c=(0.25, 0.25, 1.00), lw=2, label=\"Blue signal\", zorder=10)\n",
    "ax.plot(X, Y2, c=(1.00, 0.25, 0.25), lw=2, label=\"Red signal\")\n",
    "ax.plot(X, Y3, linewidth=0,\n",
    "        marker='o', markerfacecolor='w', markeredgecolor='k')\n",
    "\n",
    "ax.set_title(\"Anatomy of a figure\", fontsize=20, verticalalignment='bottom')\n",
    "ax.set_xlabel(\"X axis label\")\n",
    "ax.set_ylabel(\"Y axis label\")\n",
    "\n",
    "ax.legend()\n",
    "\n",
    "def circle(x, y, radius=0.15):\n",
    "    from matplotlib.patches import Circle\n",
    "    from matplotlib.patheffects import withStroke\n",
    "    circle = Circle((x, y), radius, clip_on=False, zorder=10, linewidth=1,\n",
    "                    edgecolor='black', facecolor=(0, 0, 0, .0125),\n",
    "                    path_effects=[withStroke(linewidth=5, foreground='w')])\n",
    "    ax.add_artist(circle)\n",
    "\n",
    "def text(x, y, text):\n",
    "    ax.text(x, y, text, backgroundcolor=\"white\",\n",
    "            ha='center', va='top', weight='bold', color='blue')\n",
    "\n",
    "\n",
    "# Minor tick\n",
    "circle(0.50, -0.10)\n",
    "text(0.50, -0.32, \"Minor tick label\")\n",
    "\n",
    "# Major tick\n",
    "circle(-0.03, 4.00)\n",
    "text(0.03, 3.80, \"Major tick\")\n",
    "\n",
    "# Minor tick\n",
    "circle(0.00, 3.50)\n",
    "text(0.00, 3.30, \"Minor tick\")\n",
    "\n",
    "# Major tick label\n",
    "circle(-0.15, 3.00)\n",
    "text(-0.15, 2.80, \"Major tick label\")\n",
    "\n",
    "# X Label\n",
    "circle(1.80, -0.27)\n",
    "text(1.80, -0.45, \"X axis label\")\n",
    "\n",
    "# Y Label\n",
    "circle(-0.27, 1.80)\n",
    "text(-0.27, 1.6, \"Y axis label\")\n",
    "\n",
    "# Title\n",
    "circle(1.60, 4.13)\n",
    "text(1.60, 3.93, \"Title\")\n",
    "\n",
    "# Blue plot\n",
    "circle(1.75, 2.80)\n",
    "text(1.75, 2.60, \"Line\\n(line plot)\")\n",
    "\n",
    "# Red plot\n",
    "circle(1.20, 0.60)\n",
    "text(1.20, 0.40, \"Line\\n(line plot)\")\n",
    "\n",
    "# Scatter plot\n",
    "circle(3.20, 1.75)\n",
    "text(3.20, 1.55, \"Markers\\n(scatter plot)\")\n",
    "\n",
    "# Grid\n",
    "circle(3.00, 3.00)\n",
    "text(3.00, 2.80, \"Grid\")\n",
    "\n",
    "# Legend\n",
    "circle(3.70, 3.80)\n",
    "text(3.70, 3.60, \"Legend\")\n",
    "\n",
    "# Axes\n",
    "circle(0.5, 0.5)\n",
    "text(0.5, 0.3, \"Axes\")\n",
    "\n",
    "# Figure\n",
    "circle(-0.3, 0.65)\n",
    "text(-0.3, 0.45, \"Figure\")\n",
    "\n",
    "color = 'blue'\n",
    "ax.annotate('Spines', xy=(4.0, 0.35), xycoords='data',\n",
    "            xytext=(3.3, 0.5), textcoords='data',\n",
    "            weight='bold', color=color,\n",
    "            arrowprops=dict(arrowstyle='->',\n",
    "                            connectionstyle=\"arc3\",\n",
    "                            color=color))\n",
    "\n",
    "ax.annotate('', xy=(3.15, 0.0), xycoords='data',\n",
    "            xytext=(3.45, 0.45), textcoords='data',\n",
    "            weight='bold', color=color,\n",
    "            arrowprops=dict(arrowstyle='->',\n",
    "                            connectionstyle=\"arc3\",\n",
    "                            color=color))\n",
    "\n",
    "ax.text(4.0, -0.4, \"Made with http://matplotlib.org\",\n",
    "        fontsize=10, ha=\"right\", color='.5')\n",
    "\n",
    "plt.show()"
   ]
  },
  {
   "cell_type": "markdown",
   "metadata": {},
   "source": [
    "## xkcd Plot\n",
    "* Try to understand the code below as you did previously"
   ]
  },
  {
   "cell_type": "code",
   "execution_count": null,
   "metadata": {
    "collapsed": true
   },
   "outputs": [],
   "source": [
    "# https://matplotlib.org/examples/showcase/xkcd.html\n",
    "\n",
    "import matplotlib.pyplot as plt\n",
    "import numpy as np\n",
    "\n",
    "saved_state = plt.rcParams.copy()\n",
    "\n",
    "with plt.xkcd():\n",
    "    # Based on \"Stove Ownership\" from XKCD by Randall Monroe\n",
    "    # http://xkcd.com/418/\n",
    "\n",
    "    fig = plt.figure()\n",
    "    ax = fig.add_axes((0.1, 0.2, 0.8, 0.7))\n",
    "    ax.spines['right'].set_color('none')\n",
    "    ax.spines['top'].set_color('none')\n",
    "    plt.xticks([])\n",
    "    plt.yticks([])\n",
    "    ax.set_ylim([-30, 10])\n",
    "\n",
    "    data = np.ones(100)\n",
    "    data[70:] -= np.arange(30)\n",
    "\n",
    "    plt.annotate(\n",
    "        'THE DAY I REALIZED\\nI COULD COOK BACON\\nWHENEVER I WANTED',\n",
    "        xy=(70, 1), arrowprops=dict(arrowstyle='->'), xytext=(15, -10))\n",
    "\n",
    "    plt.plot(data)\n",
    "\n",
    "    plt.xlabel('time')\n",
    "    plt.ylabel('my overall health')\n",
    "    fig.text(\n",
    "        0.5, 0.05,\n",
    "        '\"Stove Ownership\" from xkcd by Randall Monroe',\n",
    "        ha='center')\n",
    "\n",
    "    # Based on \"The Data So Far\" from XKCD by Randall Monroe\n",
    "    # http://xkcd.com/373/\n",
    "\n",
    "    fig = plt.figure()\n",
    "    ax = fig.add_axes((0.1, 0.2, 0.8, 0.7))\n",
    "    ax.bar([0, 1], [0, 100], 0.25)\n",
    "    ax.spines['right'].set_color('none')\n",
    "    ax.spines['top'].set_color('none')\n",
    "    ax.xaxis.set_ticks_position('bottom')\n",
    "    ax.set_xticks([0, 1])\n",
    "    ax.set_xlim([-0.5, 1.5])\n",
    "    ax.set_ylim([0, 110])\n",
    "    ax.set_xticklabels(['CONFIRMED BY\\nEXPERIMENT', 'REFUTED BY\\nEXPERIMENT'])\n",
    "    plt.yticks([])\n",
    "\n",
    "    plt.title(\"CLAIMS OF SUPERNATURAL POWERS\")\n",
    "\n",
    "    fig.text(\n",
    "        0.5, 0.05,\n",
    "        '\"The Data So Far\" from xkcd by Randall Monroe',\n",
    "        ha='center')\n",
    "\n",
    "plt.rcParams.update(saved_state)    \n",
    "plt.show()"
   ]
  },
  {
   "cell_type": "markdown",
   "metadata": {},
   "source": [
    "## Journal Article Plot\n",
    "* Try to understand the code below as you did previously"
   ]
  },
  {
   "cell_type": "code",
   "execution_count": null,
   "metadata": {
    "collapsed": true,
    "scrolled": true
   },
   "outputs": [],
   "source": [
    "# https://matplotlib.org/examples/showcase/bachelors_degrees_by_gender.html\n",
    "    \n",
    "import matplotlib.pyplot as plt\n",
    "from matplotlib.mlab import csv2rec\n",
    "from matplotlib.cbook import get_sample_data\n",
    "\n",
    "# We need to update the Matplotlib Example directory to find our data\n",
    "plt.rcParams['examples.directory'] = \"./data\"\n",
    "\n",
    "fname = get_sample_data('percent_bachelors_degrees_women_usa.csv')\n",
    "gender_degree_data = csv2rec(fname)\n",
    "\n",
    "# These are the colors that will be used in the plot\n",
    "color_sequence = ['#1f77b4', '#aec7e8', '#ff7f0e', '#ffbb78', '#2ca02c',\n",
    "                  '#98df8a', '#d62728', '#ff9896', '#9467bd', '#c5b0d5',\n",
    "                  '#8c564b', '#c49c94', '#e377c2', '#f7b6d2', '#7f7f7f',\n",
    "                  '#c7c7c7', '#bcbd22', '#dbdb8d', '#17becf', '#9edae5']\n",
    "\n",
    "# You typically want your plot to be ~1.33x wider than tall. This plot\n",
    "# is a rare exception because of the number of lines being plotted on it.\n",
    "# Common sizes: (10, 7.5) and (12, 9)\n",
    "fig, ax = plt.subplots(1, 1, figsize=(12, 14))\n",
    "\n",
    "# Remove the plot frame lines. They are unnecessary here.\n",
    "ax.spines['top'].set_visible(False)\n",
    "ax.spines['bottom'].set_visible(False)\n",
    "ax.spines['right'].set_visible(False)\n",
    "ax.spines['left'].set_visible(False)\n",
    "\n",
    "# Ensure that the axis ticks only show up on the bottom and left of the plot.\n",
    "# Ticks on the right and top of the plot are generally unnecessary.\n",
    "ax.get_xaxis().tick_bottom()\n",
    "ax.get_yaxis().tick_left()\n",
    "\n",
    "fig.subplots_adjust(left=.06, right=.75, bottom=.02, top=.94)\n",
    "# Limit the range of the plot to only where the data is.\n",
    "# Avoid unnecessary whitespace.\n",
    "ax.set_xlim(1969.5, 2011.1)\n",
    "ax.set_ylim(-0.25, 90)\n",
    "\n",
    "# Make sure your axis ticks are large enough to be easily read.\n",
    "# You don't want your viewers squinting to read your plot.\n",
    "plt.xticks(range(1970, 2011, 10), fontsize=14)\n",
    "plt.yticks(range(0, 91, 10), fontsize=14)\n",
    "ax.xaxis.set_major_formatter(plt.FuncFormatter('{:.0f}'.format))\n",
    "ax.yaxis.set_major_formatter(plt.FuncFormatter('{:.0f}%'.format))\n",
    "\n",
    "# Provide tick lines across the plot to help your viewers trace along\n",
    "# the axis ticks. Make sure that the lines are light and small so they\n",
    "# don't obscure the primary data lines.\n",
    "plt.grid(True, 'major', 'y', ls='--', lw=.5, c='k', alpha=.3)\n",
    "\n",
    "# Remove the tick marks; they are unnecessary with the tick lines we just\n",
    "# plotted.\n",
    "plt.tick_params(axis='both', which='both', bottom='off', top='off',\n",
    "                labelbottom='on', left='off', right='off', labelleft='on')\n",
    "\n",
    "# Now that the plot is prepared, it's time to actually plot the data!\n",
    "# Note that I plotted the majors in order of the highest % in the final year.\n",
    "majors = ['Health Professions', 'Public Administration', 'Education',\n",
    "          'Psychology', 'Foreign Languages', 'English',\n",
    "          'Communications\\nand Journalism', 'Art and Performance', 'Biology',\n",
    "          'Agriculture', 'Social Sciences and History', 'Business',\n",
    "          'Math and Statistics', 'Architecture', 'Physical Sciences',\n",
    "          'Computer Science', 'Engineering']\n",
    "\n",
    "y_offsets = {'Foreign Languages': 0.5, 'English': -0.5,\n",
    "             'Communications\\nand Journalism': 0.75,\n",
    "             'Art and Performance': -0.25, 'Agriculture': 1.25,\n",
    "             'Social Sciences and History': 0.25, 'Business': -0.75,\n",
    "             'Math and Statistics': 0.75, 'Architecture': -0.75,\n",
    "             'Computer Science': 0.75, 'Engineering': -0.25}\n",
    "\n",
    "for rank, column in enumerate(majors):\n",
    "    # Plot each line separately with its own color.\n",
    "    column_rec_name = column.replace('\\n', '_').replace(' ', '_').lower()\n",
    "\n",
    "    line = plt.plot(gender_degree_data.year,\n",
    "                    gender_degree_data[column_rec_name],\n",
    "                    lw=2.5,\n",
    "                    color=color_sequence[rank])\n",
    "\n",
    "    # Add a text label to the right end of every line. Most of the code below\n",
    "    # is adding specific offsets y position because some labels overlapped.\n",
    "    y_pos = gender_degree_data[column_rec_name][-1] - 0.5\n",
    "\n",
    "    if column in y_offsets:\n",
    "        y_pos += y_offsets[column]\n",
    "\n",
    "    # Again, make sure that all labels are large enough to be easily read\n",
    "    # by the viewer.\n",
    "    plt.text(2011.5, y_pos, column, fontsize=14, color=color_sequence[rank])\n",
    "\n",
    "# Make the title big enough so it spans the entire plot, but don't make it\n",
    "# so big that it requires two lines to show.\n",
    "\n",
    "# Note that if the title is descriptive enough, it is unnecessary to include\n",
    "# axis labels; they are self-evident, in this plot's case.\n",
    "fig.suptitle('Percentage of Bachelor\\'s degrees conferred to women in '\n",
    "             'the U.S.A. by major (1970-2011)\\n', fontsize=18, ha='center')\n",
    "\n",
    "# Finally, save the figure as a PNG.\n",
    "# You can also save it as a PDF, JPEG, etc.\n",
    "# Just change the file extension in this call.\n",
    "# plt.savefig('percent-bachelors-degrees-women-usa.png', bbox_inches='tight')\n",
    "plt.show()\n"
   ]
  },
  {
   "cell_type": "code",
   "execution_count": null,
   "metadata": {
    "collapsed": true
   },
   "outputs": [],
   "source": []
  }
 ],
 "metadata": {
  "kernelspec": {
   "display_name": "Python 3",
   "language": "python",
   "name": "python3"
  },
  "language_info": {
   "codemirror_mode": {
    "name": "ipython",
    "version": 3
   },
   "file_extension": ".py",
   "mimetype": "text/x-python",
   "name": "python",
   "nbconvert_exporter": "python",
   "pygments_lexer": "ipython3",
   "version": "3.6.5"
  }
 },
 "nbformat": 4,
 "nbformat_minor": 2
}
