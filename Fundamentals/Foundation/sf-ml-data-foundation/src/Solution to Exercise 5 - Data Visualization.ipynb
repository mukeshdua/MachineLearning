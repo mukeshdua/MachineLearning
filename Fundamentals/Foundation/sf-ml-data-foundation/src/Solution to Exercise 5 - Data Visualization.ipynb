{
 "cells": [
  {
   "cell_type": "markdown",
   "metadata": {},
   "source": [
    "# Exercise: Data Visualization"
   ]
  },
  {
   "cell_type": "code",
   "execution_count": null,
   "metadata": {},
   "outputs": [],
   "source": [
    "%matplotlib inline"
   ]
  },
  {
   "cell_type": "code",
   "execution_count": null,
   "metadata": {},
   "outputs": [],
   "source": [
    "import matplotlib.pyplot as plt\n",
    "plt.figure(figsize=(8, 8))\n",
    "plt.style.use('seaborn-whitegrid')\n",
    "plt.xlim(10, 30)\n",
    "plt.ylim(10, 40)\n",
    "plt.xticks(range(10, 31, 5))\n",
    "\n",
    "# line 1 points\n",
    "x1 = [10, 20, 30]\n",
    "y1 = [20, 40, 10]\n",
    "# plotting the line 1 points \n",
    "plt.plot(x1, y1, label = \"this line\", color='red')\n",
    "\n",
    "# line 2 points\n",
    "x2 = [10, 20, 30]\n",
    "y2 = [40, 10, 30]\n",
    "# plotting the line 2 points \n",
    "plt.plot(x2, y2, label = \"that line\", color='green')\n",
    "\n",
    "plt.xlabel('Ecks')\n",
    "# Set the y axis label of the current axis\n",
    "plt.ylabel('Why?')\n",
    "# Set a title of the current axes\n",
    "plt.title('Visualization Exercise')\n",
    "# show a legend on the plot\n",
    "plt.legend()\n",
    "# Display a figure\n",
    "plt.show()"
   ]
  },
  {
   "cell_type": "code",
   "execution_count": null,
   "metadata": {},
   "outputs": [],
   "source": []
  }
 ],
 "metadata": {
  "kernelspec": {
   "display_name": "Python 3",
   "language": "python",
   "name": "python3"
  },
  "language_info": {
   "codemirror_mode": {
    "name": "ipython",
    "version": 3
   },
   "file_extension": ".py",
   "mimetype": "text/x-python",
   "name": "python",
   "nbconvert_exporter": "python",
   "pygments_lexer": "ipython3",
   "version": "3.6.4"
  }
 },
 "nbformat": 4,
 "nbformat_minor": 2
}
