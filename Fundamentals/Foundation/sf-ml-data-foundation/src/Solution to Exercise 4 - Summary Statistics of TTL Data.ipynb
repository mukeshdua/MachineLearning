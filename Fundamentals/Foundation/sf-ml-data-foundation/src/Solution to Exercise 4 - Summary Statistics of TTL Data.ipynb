{
 "cells": [
  {
   "cell_type": "markdown",
   "metadata": {},
   "source": [
    "# Exercise: Summary Statistics of TTL Data"
   ]
  },
  {
   "cell_type": "markdown",
   "metadata": {},
   "source": [
    "## Use __`pandas`__ to read in the file named __`agg_application_pod_hourly.csv`__\n",
    "* remember to title the columns appropriately\n",
    "* compute the summary statistics for the various columns"
   ]
  },
  {
   "cell_type": "code",
   "execution_count": 2,
   "metadata": {},
   "outputs": [],
   "source": [
    "import pandas as pd"
   ]
  },
  {
   "cell_type": "code",
   "execution_count": 4,
   "metadata": {},
   "outputs": [],
   "source": [
    "data = pd.read_csv('/Users/mukesh.dua/Documents/Machine Learning/data/agg_application_pod_hourly.csv', header=None, na_values=[r'\\N'])"
   ]
  },
  {
   "cell_type": "code",
   "execution_count": 5,
   "metadata": {},
   "outputs": [],
   "source": [
    "data.columns = 'hour_key, date_key, datacenter, superpod, pod, mem_utilization, max_app_cpu, avg_app_cpu, gc_perc, p95_app_cpu, last_modified, app_host_count_active, app_transacting_host_count'.split(', ')"
   ]
  },
  {
   "cell_type": "code",
   "execution_count": 6,
   "metadata": {},
   "outputs": [
    {
     "data": {
      "text/html": [
       "<div>\n",
       "<style scoped>\n",
       "    .dataframe tbody tr th:only-of-type {\n",
       "        vertical-align: middle;\n",
       "    }\n",
       "\n",
       "    .dataframe tbody tr th {\n",
       "        vertical-align: top;\n",
       "    }\n",
       "\n",
       "    .dataframe thead th {\n",
       "        text-align: right;\n",
       "    }\n",
       "</style>\n",
       "<table border=\"1\" class=\"dataframe\">\n",
       "  <thead>\n",
       "    <tr style=\"text-align: right;\">\n",
       "      <th></th>\n",
       "      <th>hour_key</th>\n",
       "      <th>date_key</th>\n",
       "      <th>datacenter</th>\n",
       "      <th>superpod</th>\n",
       "      <th>pod</th>\n",
       "      <th>mem_utilization</th>\n",
       "      <th>max_app_cpu</th>\n",
       "      <th>avg_app_cpu</th>\n",
       "      <th>gc_perc</th>\n",
       "      <th>p95_app_cpu</th>\n",
       "      <th>last_modified</th>\n",
       "      <th>app_host_count_active</th>\n",
       "      <th>app_transacting_host_count</th>\n",
       "    </tr>\n",
       "  </thead>\n",
       "  <tbody>\n",
       "    <tr>\n",
       "      <th>0</th>\n",
       "      <td>7</td>\n",
       "      <td>20170121</td>\n",
       "      <td>LON</td>\n",
       "      <td>SP9</td>\n",
       "      <td>cs86</td>\n",
       "      <td>37.980300</td>\n",
       "      <td>7.938677</td>\n",
       "      <td>5.929535</td>\n",
       "      <td>0.799236</td>\n",
       "      <td>NaN</td>\n",
       "      <td>2017-02-27 20:38:10.59641</td>\n",
       "      <td>NaN</td>\n",
       "      <td>NaN</td>\n",
       "    </tr>\n",
       "    <tr>\n",
       "      <th>1</th>\n",
       "      <td>7</td>\n",
       "      <td>20170121</td>\n",
       "      <td>WAS</td>\n",
       "      <td>SP2</td>\n",
       "      <td>na4</td>\n",
       "      <td>69.257324</td>\n",
       "      <td>14.353811</td>\n",
       "      <td>11.269566</td>\n",
       "      <td>0.910468</td>\n",
       "      <td>NaN</td>\n",
       "      <td>2017-02-27 20:38:10.59641</td>\n",
       "      <td>NaN</td>\n",
       "      <td>NaN</td>\n",
       "    </tr>\n",
       "    <tr>\n",
       "      <th>2</th>\n",
       "      <td>7</td>\n",
       "      <td>20170121</td>\n",
       "      <td>CHI</td>\n",
       "      <td>SP1</td>\n",
       "      <td>gs0</td>\n",
       "      <td>33.341110</td>\n",
       "      <td>17.466251</td>\n",
       "      <td>10.286361</td>\n",
       "      <td>1.259740</td>\n",
       "      <td>NaN</td>\n",
       "      <td>2017-02-27 20:38:10.59641</td>\n",
       "      <td>NaN</td>\n",
       "      <td>NaN</td>\n",
       "    </tr>\n",
       "    <tr>\n",
       "      <th>3</th>\n",
       "      <td>7</td>\n",
       "      <td>20170121</td>\n",
       "      <td>CHI</td>\n",
       "      <td>SP3</td>\n",
       "      <td>cs23</td>\n",
       "      <td>62.849570</td>\n",
       "      <td>13.417571</td>\n",
       "      <td>9.052662</td>\n",
       "      <td>0.980685</td>\n",
       "      <td>NaN</td>\n",
       "      <td>2017-02-27 20:38:10.59641</td>\n",
       "      <td>NaN</td>\n",
       "      <td>NaN</td>\n",
       "    </tr>\n",
       "    <tr>\n",
       "      <th>4</th>\n",
       "      <td>7</td>\n",
       "      <td>20170121</td>\n",
       "      <td>LON</td>\n",
       "      <td>SP9</td>\n",
       "      <td>cs87</td>\n",
       "      <td>34.985798</td>\n",
       "      <td>7.711010</td>\n",
       "      <td>5.902223</td>\n",
       "      <td>0.510657</td>\n",
       "      <td>NaN</td>\n",
       "      <td>2017-02-27 20:38:10.59641</td>\n",
       "      <td>NaN</td>\n",
       "      <td>NaN</td>\n",
       "    </tr>\n",
       "  </tbody>\n",
       "</table>\n",
       "</div>"
      ],
      "text/plain": [
       "   hour_key  date_key datacenter superpod   pod  mem_utilization  max_app_cpu  \\\n",
       "0         7  20170121        LON      SP9  cs86        37.980300     7.938677   \n",
       "1         7  20170121        WAS      SP2   na4        69.257324    14.353811   \n",
       "2         7  20170121        CHI      SP1   gs0        33.341110    17.466251   \n",
       "3         7  20170121        CHI      SP3  cs23        62.849570    13.417571   \n",
       "4         7  20170121        LON      SP9  cs87        34.985798     7.711010   \n",
       "\n",
       "   avg_app_cpu   gc_perc  p95_app_cpu              last_modified  \\\n",
       "0     5.929535  0.799236          NaN  2017-02-27 20:38:10.59641   \n",
       "1    11.269566  0.910468          NaN  2017-02-27 20:38:10.59641   \n",
       "2    10.286361  1.259740          NaN  2017-02-27 20:38:10.59641   \n",
       "3     9.052662  0.980685          NaN  2017-02-27 20:38:10.59641   \n",
       "4     5.902223  0.510657          NaN  2017-02-27 20:38:10.59641   \n",
       "\n",
       "   app_host_count_active  app_transacting_host_count  \n",
       "0                    NaN                         NaN  \n",
       "1                    NaN                         NaN  \n",
       "2                    NaN                         NaN  \n",
       "3                    NaN                         NaN  \n",
       "4                    NaN                         NaN  "
      ]
     },
     "execution_count": 6,
     "metadata": {},
     "output_type": "execute_result"
    }
   ],
   "source": [
    "data.head()"
   ]
  },
  {
   "cell_type": "code",
   "execution_count": 7,
   "metadata": {},
   "outputs": [
    {
     "data": {
      "text/html": [
       "<div>\n",
       "<style scoped>\n",
       "    .dataframe tbody tr th:only-of-type {\n",
       "        vertical-align: middle;\n",
       "    }\n",
       "\n",
       "    .dataframe tbody tr th {\n",
       "        vertical-align: top;\n",
       "    }\n",
       "\n",
       "    .dataframe thead th {\n",
       "        text-align: right;\n",
       "    }\n",
       "</style>\n",
       "<table border=\"1\" class=\"dataframe\">\n",
       "  <thead>\n",
       "    <tr style=\"text-align: right;\">\n",
       "      <th></th>\n",
       "      <th>hour_key</th>\n",
       "      <th>date_key</th>\n",
       "      <th>mem_utilization</th>\n",
       "      <th>max_app_cpu</th>\n",
       "      <th>avg_app_cpu</th>\n",
       "      <th>gc_perc</th>\n",
       "      <th>p95_app_cpu</th>\n",
       "      <th>app_host_count_active</th>\n",
       "      <th>app_transacting_host_count</th>\n",
       "    </tr>\n",
       "  </thead>\n",
       "  <tbody>\n",
       "    <tr>\n",
       "      <th>count</th>\n",
       "      <td>1.265916e+06</td>\n",
       "      <td>1.265916e+06</td>\n",
       "      <td>1.115939e+06</td>\n",
       "      <td>1.116360e+06</td>\n",
       "      <td>1.254802e+06</td>\n",
       "      <td>1.118541e+06</td>\n",
       "      <td>932047.000000</td>\n",
       "      <td>530139.000000</td>\n",
       "      <td>48360.000000</td>\n",
       "    </tr>\n",
       "    <tr>\n",
       "      <th>mean</th>\n",
       "      <td>1.149787e+01</td>\n",
       "      <td>2.016889e+07</td>\n",
       "      <td>4.155416e+01</td>\n",
       "      <td>1.180563e+01</td>\n",
       "      <td>8.849813e+00</td>\n",
       "      <td>1.368583e+00</td>\n",
       "      <td>14.213082</td>\n",
       "      <td>20.867993</td>\n",
       "      <td>21.425434</td>\n",
       "    </tr>\n",
       "    <tr>\n",
       "      <th>std</th>\n",
       "      <td>6.917145e+00</td>\n",
       "      <td>3.689567e+03</td>\n",
       "      <td>1.176311e+01</td>\n",
       "      <td>7.355096e+00</td>\n",
       "      <td>6.177332e+00</td>\n",
       "      <td>1.627901e+00</td>\n",
       "      <td>8.332162</td>\n",
       "      <td>13.710650</td>\n",
       "      <td>13.906723</td>\n",
       "    </tr>\n",
       "    <tr>\n",
       "      <th>min</th>\n",
       "      <td>0.000000e+00</td>\n",
       "      <td>2.016093e+07</td>\n",
       "      <td>0.000000e+00</td>\n",
       "      <td>0.000000e+00</td>\n",
       "      <td>0.000000e+00</td>\n",
       "      <td>0.000000e+00</td>\n",
       "      <td>0.000000</td>\n",
       "      <td>5.000000</td>\n",
       "      <td>4.000000</td>\n",
       "    </tr>\n",
       "    <tr>\n",
       "      <th>25%</th>\n",
       "      <td>6.000000e+00</td>\n",
       "      <td>2.017020e+07</td>\n",
       "      <td>3.607496e+01</td>\n",
       "      <td>6.570135e+00</td>\n",
       "      <td>4.591995e+00</td>\n",
       "      <td>5.393953e-01</td>\n",
       "      <td>8.146478</td>\n",
       "      <td>10.000000</td>\n",
       "      <td>10.000000</td>\n",
       "    </tr>\n",
       "    <tr>\n",
       "      <th>50%</th>\n",
       "      <td>1.100000e+01</td>\n",
       "      <td>2.017052e+07</td>\n",
       "      <td>3.786449e+01</td>\n",
       "      <td>9.981898e+00</td>\n",
       "      <td>7.225207e+00</td>\n",
       "      <td>9.878268e-01</td>\n",
       "      <td>12.268508</td>\n",
       "      <td>10.000000</td>\n",
       "      <td>10.000000</td>\n",
       "    </tr>\n",
       "    <tr>\n",
       "      <th>75%</th>\n",
       "      <td>1.700000e+01</td>\n",
       "      <td>2.017082e+07</td>\n",
       "      <td>4.009692e+01</td>\n",
       "      <td>1.497794e+01</td>\n",
       "      <td>1.108370e+01</td>\n",
       "      <td>1.718055e+00</td>\n",
       "      <td>18.180967</td>\n",
       "      <td>30.000000</td>\n",
       "      <td>39.000000</td>\n",
       "    </tr>\n",
       "    <tr>\n",
       "      <th>max</th>\n",
       "      <td>2.300000e+01</td>\n",
       "      <td>2.017111e+07</td>\n",
       "      <td>1.000000e+02</td>\n",
       "      <td>8.185169e+01</td>\n",
       "      <td>5.551501e+01</td>\n",
       "      <td>8.836020e+01</td>\n",
       "      <td>88.467560</td>\n",
       "      <td>50.000000</td>\n",
       "      <td>50.000000</td>\n",
       "    </tr>\n",
       "  </tbody>\n",
       "</table>\n",
       "</div>"
      ],
      "text/plain": [
       "           hour_key      date_key  mem_utilization   max_app_cpu  \\\n",
       "count  1.265916e+06  1.265916e+06     1.115939e+06  1.116360e+06   \n",
       "mean   1.149787e+01  2.016889e+07     4.155416e+01  1.180563e+01   \n",
       "std    6.917145e+00  3.689567e+03     1.176311e+01  7.355096e+00   \n",
       "min    0.000000e+00  2.016093e+07     0.000000e+00  0.000000e+00   \n",
       "25%    6.000000e+00  2.017020e+07     3.607496e+01  6.570135e+00   \n",
       "50%    1.100000e+01  2.017052e+07     3.786449e+01  9.981898e+00   \n",
       "75%    1.700000e+01  2.017082e+07     4.009692e+01  1.497794e+01   \n",
       "max    2.300000e+01  2.017111e+07     1.000000e+02  8.185169e+01   \n",
       "\n",
       "        avg_app_cpu       gc_perc    p95_app_cpu  app_host_count_active  \\\n",
       "count  1.254802e+06  1.118541e+06  932047.000000          530139.000000   \n",
       "mean   8.849813e+00  1.368583e+00      14.213082              20.867993   \n",
       "std    6.177332e+00  1.627901e+00       8.332162              13.710650   \n",
       "min    0.000000e+00  0.000000e+00       0.000000               5.000000   \n",
       "25%    4.591995e+00  5.393953e-01       8.146478              10.000000   \n",
       "50%    7.225207e+00  9.878268e-01      12.268508              10.000000   \n",
       "75%    1.108370e+01  1.718055e+00      18.180967              30.000000   \n",
       "max    5.551501e+01  8.836020e+01      88.467560              50.000000   \n",
       "\n",
       "       app_transacting_host_count  \n",
       "count                48360.000000  \n",
       "mean                    21.425434  \n",
       "std                     13.906723  \n",
       "min                      4.000000  \n",
       "25%                     10.000000  \n",
       "50%                     10.000000  \n",
       "75%                     39.000000  \n",
       "max                     50.000000  "
      ]
     },
     "execution_count": 7,
     "metadata": {},
     "output_type": "execute_result"
    }
   ],
   "source": [
    "data.describe()"
   ]
  },
  {
   "cell_type": "markdown",
   "metadata": {},
   "source": [
    "## What is the maximum value for the __`app_host_count_active`__ column?"
   ]
  },
  {
   "cell_type": "code",
   "execution_count": 8,
   "metadata": {},
   "outputs": [
    {
     "data": {
      "text/plain": [
       "50.0"
      ]
     },
     "execution_count": 8,
     "metadata": {},
     "output_type": "execute_result"
    }
   ],
   "source": [
    "data['app_host_count_active'].max() # also shown above"
   ]
  },
  {
   "cell_type": "markdown",
   "metadata": {},
   "source": [
    "## How many times did that maximum value occur in the dataset?"
   ]
  },
  {
   "cell_type": "code",
   "execution_count": 10,
   "metadata": {},
   "outputs": [
    {
     "data": {
      "text/plain": [
       "hour_key                      14731\n",
       "date_key                      14731\n",
       "datacenter                    14731\n",
       "superpod                      14731\n",
       "pod                           14731\n",
       "mem_utilization               14728\n",
       "max_app_cpu                   14731\n",
       "avg_app_cpu                   14731\n",
       "gc_perc                       14646\n",
       "p95_app_cpu                   14731\n",
       "last_modified                 14731\n",
       "app_host_count_active         14731\n",
       "app_transacting_host_count     1242\n",
       "dtype: int64"
      ]
     },
     "execution_count": 10,
     "metadata": {},
     "output_type": "execute_result"
    }
   ],
   "source": [
    "data[data['app_host_count_active'] == 50.0].count()"
   ]
  },
  {
   "cell_type": "code",
   "execution_count": null,
   "metadata": {},
   "outputs": [],
   "source": []
  }
 ],
 "metadata": {
  "kernelspec": {
   "display_name": "Python 3",
   "language": "python",
   "name": "python3"
  },
  "language_info": {
   "codemirror_mode": {
    "name": "ipython",
    "version": 3
   },
   "file_extension": ".py",
   "mimetype": "text/x-python",
   "name": "python",
   "nbconvert_exporter": "python",
   "pygments_lexer": "ipython3",
   "version": "3.6.4"
  }
 },
 "nbformat": 4,
 "nbformat_minor": 2
}
