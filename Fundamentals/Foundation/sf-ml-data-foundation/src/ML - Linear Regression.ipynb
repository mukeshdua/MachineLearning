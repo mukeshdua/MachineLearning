{
 "cells": [
  {
   "cell_type": "code",
   "execution_count": null,
   "metadata": {
    "ExecuteTime": {
     "end_time": "2018-03-16T21:14:52.271291Z",
     "start_time": "2018-03-16T21:14:52.265698Z"
    }
   },
   "outputs": [],
   "source": [
    "%matplotlib inline\n",
    "import matplotlib.pyplot as plt\n",
    "import numpy as np"
   ]
  },
  {
   "cell_type": "code",
   "execution_count": null,
   "metadata": {
    "ExecuteTime": {
     "end_time": "2018-03-16T21:14:52.279350Z",
     "start_time": "2018-03-16T21:14:52.273563Z"
    }
   },
   "outputs": [],
   "source": [
    "# Create a random number generator and see it with the value 1.\n",
    "# This means that every time we run this example, we'll get the\n",
    "# same sequence of (pseudo-)random numbers. If we change the seed,\n",
    "# we'll get a different sequence of numbers.\n",
    "rng = np.random.RandomState(1)\n",
    "\n",
    "# Create a vector (array) of 50 random numbers between 1 and 10.\n",
    "# The rand() function returns a random number between 0 and 1.\n",
    "x = 10 * rng.rand(50)\n",
    "x"
   ]
  },
  {
   "cell_type": "code",
   "execution_count": null,
   "metadata": {
    "ExecuteTime": {
     "end_time": "2018-03-16T21:14:52.365634Z",
     "start_time": "2018-03-16T21:14:52.281306Z"
    }
   },
   "outputs": [],
   "source": [
    "# Make y linearly related to x. Add/subtract some random noise so\n",
    "# the linear relationship is not perfect. The randn() function\n",
    "# returns a random number from the standard normal distribution\n",
    "# (mean = 0, standard deviation = 1)\n",
    "y = 2 * x - 6 + rng.randn(50)\n",
    "plt.scatter(x, y);"
   ]
  },
  {
   "cell_type": "code",
   "execution_count": null,
   "metadata": {
    "ExecuteTime": {
     "end_time": "2018-03-16T21:14:52.466703Z",
     "start_time": "2018-03-16T21:14:52.367693Z"
    }
   },
   "outputs": [],
   "source": [
    "from sklearn.linear_model import LinearRegression\n",
    "# Create a Linear Regression model\n",
    "model = LinearRegression()\n",
    "\n",
    "# Fit our data to this linear regression model. Note that sklearn\n",
    "# wants a 2-d array as input, an array of arrays, where each row\n",
    "# is a set of features describing our data. So to do this conversion,\n",
    "# we use np.newaxis.\n",
    "model.fit(x[:, np.newaxis], y)\n",
    "\n",
    "# We're done, but in order to see the regression line chosen by the\n",
    "# model, we need to plot it. So we create a new set of data, xfit,\n",
    "# which is just a set of equal-spaced points on the line from 0 to 10.\n",
    "xfit = np.linspace(0, 10, 1000)\n",
    "\n",
    "# Then we ask the model to predict the output (y) value for each of\n",
    "# these points. Since this is a linear regression model, each y value\n",
    "# will lie along the regression line.\n",
    "yfit = model.predict(xfit[:, np.newaxis])\n",
    "\n",
    "# Now we plot our original data plus a plot of the regression line.\n",
    "plt.scatter(x, y)\n",
    "plt.plot(xfit, yfit, color='red');"
   ]
  },
  {
   "cell_type": "code",
   "execution_count": null,
   "metadata": {
    "ExecuteTime": {
     "end_time": "2018-03-16T21:14:52.473891Z",
     "start_time": "2018-03-16T21:14:52.468821Z"
    }
   },
   "outputs": [],
   "source": [
    "# Let's check the coefficient, i.e., m in the equation y = mx + b\n",
    "# Why is this an array and not a single value?\n",
    "model.coef_"
   ]
  },
  {
   "cell_type": "code",
   "execution_count": null,
   "metadata": {
    "ExecuteTime": {
     "end_time": "2018-03-16T21:14:52.481044Z",
     "start_time": "2018-03-16T21:14:52.475773Z"
    }
   },
   "outputs": [],
   "source": [
    "# Let's check the intercept, i.e., b in the equation y = mx + b\n",
    "model.intercept_"
   ]
  }
 ],
 "metadata": {
  "kernelspec": {
   "display_name": "Python 3",
   "language": "python",
   "name": "python3"
  },
  "language_info": {
   "codemirror_mode": {
    "name": "ipython",
    "version": 3
   },
   "file_extension": ".py",
   "mimetype": "text/x-python",
   "name": "python",
   "nbconvert_exporter": "python",
   "pygments_lexer": "ipython3",
   "version": "3.6.4"
  }
 },
 "nbformat": 4,
 "nbformat_minor": 2
}
