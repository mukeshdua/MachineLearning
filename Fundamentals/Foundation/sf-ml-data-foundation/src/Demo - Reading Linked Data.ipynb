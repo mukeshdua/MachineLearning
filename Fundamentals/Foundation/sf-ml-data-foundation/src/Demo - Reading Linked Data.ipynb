{
 "cells": [
  {
   "cell_type": "markdown",
   "metadata": {},
   "source": [
    "# Demo: Reading Linked Data\n",
    "* for this exercise you will need to install SPARQLWrapper:\n",
    "  * __`~/anaconda3/bin/conda install -c conda-forge sparqlwrapper`__"
   ]
  },
  {
   "cell_type": "code",
   "execution_count": null,
   "metadata": {
    "collapsed": true
   },
   "outputs": [],
   "source": [
    "import pandas as pd\n",
    "import json\n",
    "from SPARQLWrapper import SPARQLWrapper, JSON"
   ]
  },
  {
   "cell_type": "code",
   "execution_count": null,
   "metadata": {
    "collapsed": true
   },
   "outputs": [],
   "source": [
    "def get_sparql_dataframe(service, query):\n",
    "    \"\"\"\n",
    "    Helper function to convert SPARQL results into a Pandas data frame.\n",
    "    \"\"\"\n",
    "    sparql = SPARQLWrapper(service)\n",
    "    sparql.setQuery(query)\n",
    "    sparql.setReturnFormat(JSON)\n",
    "    result = sparql.query()\n",
    "\n",
    "    processed_results = json.load(result.response)\n",
    "    cols = processed_results['head']['vars']\n",
    "\n",
    "    out = []\n",
    "    for row in processed_results['results']['bindings']:\n",
    "        item = []\n",
    "        for c in cols:\n",
    "            item.append(row.get(c, {}).get('value'))\n",
    "        out.append(item)\n",
    "\n",
    "    return pd.DataFrame(out, columns=cols)"
   ]
  },
  {
   "cell_type": "code",
   "execution_count": null,
   "metadata": {
    "collapsed": true
   },
   "outputs": [],
   "source": [
    "wds = \"https://query.wikidata.org/sparql\""
   ]
  },
  {
   "cell_type": "code",
   "execution_count": null,
   "metadata": {
    "collapsed": true
   },
   "outputs": [],
   "source": [
    "# This is a SPARQL query to send to the SPARQL endpoint defined in the\n",
    "# previous step. It mixes three vocabularies that each have their own\n",
    "# definitions but is ultimately a selection from the Wikidata graph.\n",
    "#\n",
    "# We're looking for distinct rows of individuals who have an orcid\n",
    "# (https://orcid.org) and any English descriptions and labels we\n",
    "# might also have about them. We're matching a pattern in the graph\n",
    "# for any node that is connected to other nodes with these relationships.\n",
    "#\n",
    "# Note that the relationships themselves are often resolvable. To\n",
    "# understand what wdt:P496 means, expand it into its full URL by\n",
    "# applying the prefix for wdt and then issue an HTTP request to\n",
    "# http://www.wikidata.org/prop/direct/P496\n",
    "#\n",
    "# For more information on SPARQL, please consult \"Learning SPARQL (2nd\n",
    "# Edition)\" by Bob DuCharme.\n",
    "\n",
    "rq = \"\"\"\n",
    "PREFIX bd: <http://www.bigdata.com/rdf#>\n",
    "PREFIX wikibase: <http://wikiba.se/ontology#>\n",
    "PREFIX wdt: <http://www.wikidata.org/prop/direct/>\n",
    "\n",
    "select distinct\n",
    "   ?item\n",
    "   ?itemLabel\n",
    "   ?orcid\n",
    "   ?description\n",
    "WHERE {\n",
    "  ?item wdt:P496 ?orcid \n",
    "  OPTIONAL { ?item schema:description ?description filter (lang(?description) = \"en\") }\n",
    "  SERVICE wikibase:label {\n",
    "        bd:serviceParam wikibase:language \"en\" .\n",
    "  }\n",
    "} Limit 100000\n",
    "\"\"\""
   ]
  },
  {
   "cell_type": "code",
   "execution_count": null,
   "metadata": {},
   "outputs": [],
   "source": [
    "wikidf = get_sparql_dataframe(wds, rq)"
   ]
  },
  {
   "cell_type": "code",
   "execution_count": null,
   "metadata": {},
   "outputs": [],
   "source": [
    "# Let's inspect our DataFrame\n",
    "wikidf.head()"
   ]
  },
  {
   "cell_type": "code",
   "execution_count": null,
   "metadata": {},
   "outputs": [],
   "source": [
    "# Some stats...\n",
    "wikidf.describe()"
   ]
  },
  {
   "cell_type": "code",
   "execution_count": null,
   "metadata": {},
   "outputs": [],
   "source": [
    "# Top 10 most frequently occurring job titles\n",
    "wikidf['description'].value_counts()[:10]"
   ]
  },
  {
   "cell_type": "code",
   "execution_count": null,
   "metadata": {},
   "outputs": [],
   "source": [
    "# A Jupyter trick to store this DataFrame so we can use it in our exercise\n",
    "%store wikidf"
   ]
  },
  {
   "cell_type": "code",
   "execution_count": null,
   "metadata": {
    "collapsed": true
   },
   "outputs": [],
   "source": []
  }
 ],
 "metadata": {
  "kernelspec": {
   "display_name": "Python 3",
   "language": "python",
   "name": "python3"
  },
  "language_info": {
   "codemirror_mode": {
    "name": "ipython",
    "version": 3
   },
   "file_extension": ".py",
   "mimetype": "text/x-python",
   "name": "python",
   "nbconvert_exporter": "python",
   "pygments_lexer": "ipython3",
   "version": "3.6.3"
  }
 },
 "nbformat": 4,
 "nbformat_minor": 2
}
