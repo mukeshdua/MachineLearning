{
 "cells": [
  {
   "cell_type": "markdown",
   "metadata": {},
   "source": [
    "# Cross-validation for parameter tuning, model selection, and feature selection (video #7)\n",
    "\n",
    "__Steps for K-fold cross-validation__\n",
    "1. Split the dataset into K equal partitions (or \"folds\").\n",
    "2. Use fold 1 as the testing set and the union of the other folds as the training set.\n",
    "3. Calculate testing accuracy.\n",
    "4. Repeat steps 2 and 3 K times, using a different fold as the testing set each time.\n",
    "5. Use the average testing accuracy as the estimate of out-of-sample accuracy.\n",
    "\n",
    "# Comparing cross-validation to train/test split\n",
    "**Advantages of cross-validation:**\n",
    "\n",
    "* More accurate estimate of out-of-sample accuracy\n",
    "* More \"efficient\" use of data (every observation is used for both training and testing)\n",
    "\n",
    "**Advantages of train/test split:**\n",
    "\n",
    "* Runs K times faster than K-fold cross-validation\n",
    "* Simpler to examine the detailed results of the testing process\n",
    "**Cross-validation recommendations**\n",
    "* K can be any number, but K=10 is generally recommended\n",
    "* For classification problems, stratified sampling is recommended for creating the folds\n",
    "    * Each response class should be represented with equal proportions in each of the K folds\n",
    "    * scikit-learn's cross_val_score function does this by default"
   ]
  },
  {
   "cell_type": "markdown",
   "metadata": {},
   "source": [
    "# Cross-validation recommendations\n",
    "1. K can be any number, but K=10 is generally recommended\n",
    "2. For classification problems, stratified sampling is recommended for creating the folds\n",
    "    * Each response class should be represented with equal proportions in each of the K folds\n",
    "    * scikit-learn's cross_val_score function does this by default"
   ]
  },
  {
   "cell_type": "code",
   "execution_count": 34,
   "metadata": {},
   "outputs": [],
   "source": [
    "from sklearn.datasets import load_iris\n",
    "from sklearn.model_selection import train_test_split\n",
    "from sklearn.neighbors import KNeighborsClassifier\n",
    "from sklearn import metrics\n",
    "from sklearn.cross_validation import cross_val_score\n",
    "from sklearn.linear_model import LogisticRegression"
   ]
  },
  {
   "cell_type": "code",
   "execution_count": 35,
   "metadata": {},
   "outputs": [],
   "source": [
    "# read in the iris data\n",
    "iris = load_iris()\n",
    "\n",
    "# create X (features) and y (response)\n",
    "X = iris.data\n",
    "y = iris.target"
   ]
  },
  {
   "cell_type": "code",
   "execution_count": 36,
   "metadata": {},
   "outputs": [
    {
     "data": {
      "text/plain": [
       "array([1.        , 0.93333333, 1.        , 1.        , 0.86666667,\n",
       "       0.93333333, 0.93333333, 1.        , 1.        , 1.        ])"
      ]
     },
     "execution_count": 36,
     "metadata": {},
     "output_type": "execute_result"
    }
   ],
   "source": [
    "knn=KNeighborsClassifier(n_neighbors=5)\n",
    "\n",
    "#parameters: model object, X and y, cv(10 fold cross validation),classification=accuracy\n",
    "scores=cross_val_score(knn,X,y,cv=10,scoring='accuracy')\n",
    "scores"
   ]
  },
  {
   "cell_type": "code",
   "execution_count": 37,
   "metadata": {},
   "outputs": [
    {
     "name": "stdout",
     "output_type": "stream",
     "text": [
      "[0.96, 0.9533333333333334, 0.9666666666666666, 0.9666666666666666, 0.9666666666666668, 0.9666666666666668, 0.9666666666666668, 0.9666666666666668, 0.9733333333333334, 0.9666666666666668, 0.9666666666666668, 0.9733333333333334, 0.9800000000000001, 0.9733333333333334, 0.9733333333333334, 0.9733333333333334, 0.9733333333333334, 0.9800000000000001, 0.9733333333333334, 0.9800000000000001, 0.9666666666666666, 0.9666666666666666, 0.9733333333333334, 0.96, 0.9666666666666666]\n"
     ]
    }
   ],
   "source": [
    "knnRange = range(1,26)\n",
    "scoresRange=[]\n",
    "for k in knnRange:\n",
    "    kTemp = KNeighborsClassifier(n_neighbors=k)\n",
    "    scoresTemp=cross_val_score(kTemp,X,y,cv=10,scoring='accuracy')\n",
    "    scoresRange.append(scoresTemp.mean())\n",
    "print(scoresRange)\n"
   ]
  },
  {
   "cell_type": "code",
   "execution_count": 38,
   "metadata": {},
   "outputs": [
    {
     "data": {
      "text/plain": [
       "Text(0,0.5,'Accuracy')"
      ]
     },
     "execution_count": 38,
     "metadata": {},
     "output_type": "execute_result"
    },
    {
     "data": {
      "image/png": "[encoded data removed]",
      "text/plain": [
       "<matplotlib.figure.Figure at 0x116ae6470>"
      ]
     },
     "metadata": {},
     "output_type": "display_data"
    }
   ],
   "source": [
    "import matplotlib.pyplot as plt\n",
    "\n",
    "%matplotlib inline\n",
    "\n",
    "plt.plot(knnRange,scoresRange)\n",
    "plt.xlabel(\"Value of K\")\n",
    "plt.ylabel(\"Accuracy\")"
   ]
  },
  {
   "cell_type": "markdown",
   "metadata": {},
   "source": [
    "# Compare result between KNN and Logistic Regression\n",
    "Above shows knn=20 is best"
   ]
  },
  {
   "cell_type": "code",
   "execution_count": 39,
   "metadata": {},
   "outputs": [
    {
     "data": {
      "text/plain": [
       "0.9800000000000001"
      ]
     },
     "execution_count": 39,
     "metadata": {},
     "output_type": "execute_result"
    }
   ],
   "source": [
    "knn20=KNeighborsClassifier(n_neighbors=20)\n",
    "\n",
    "#parameters: model object, X and y, cv(10 fold cross validation),classification=accuracy\n",
    "scores=cross_val_score(knn20,X,y,cv=10,scoring='accuracy')\n",
    "scores.mean()"
   ]
  },
  {
   "cell_type": "code",
   "execution_count": 40,
   "metadata": {},
   "outputs": [
    {
     "data": {
      "text/plain": [
       "0.9533333333333334"
      ]
     },
     "execution_count": 40,
     "metadata": {},
     "output_type": "execute_result"
    }
   ],
   "source": [
    "lg=LogisticRegression()\n",
    "\n",
    "#parameters: model object, X and y, cv(10 fold cross validation),classification=accuracy\n",
    "scores=cross_val_score(lg,X,y,cv=10,scoring='accuracy')\n",
    "scores.mean()"
   ]
  },
  {
   "cell_type": "markdown",
   "metadata": {},
   "source": [
    "# Cross-validation example: feature selection in Linear Regression "
   ]
  },
  {
   "cell_type": "code",
   "execution_count": 42,
   "metadata": {},
   "outputs": [],
   "source": [
    "import pandas as pd\n",
    "from sklearn import metrics\n",
    "from sklearn import linear_model"
   ]
  },
  {
   "cell_type": "code",
   "execution_count": 51,
   "metadata": {},
   "outputs": [
    {
     "name": "stdout",
     "output_type": "stream",
     "text": [
      "1.6913531708051797\n",
      "1.6796748419090768\n"
     ]
    }
   ],
   "source": [
    "data = pd.read_csv('data/Advertising.csv', index_col=0)\n",
    "\n",
    "feature=['TV','Radio','Newspaper']\n",
    "X= data[feature]\n",
    "Y= data['Sales']\n",
    "lr= linear_model.LinearRegression()\n",
    "scores=cross_val_score(lr,X,Y,cv=10,scoring='neg_mean_squared_error')\n",
    "scores\n",
    "# fix the sign of MSE scores\n",
    "mse_scores = -scores\n",
    "#print(mse_scores)\n",
    "# convert from MSE to RMSE\n",
    "rmse_scores = np.sqrt(mse_scores)\n",
    "#print(rmse_scores)\n",
    "# calculate the average RMSE\n",
    "print(rmse_scores.mean())\n",
    "\n",
    "#Features Radio and TV\n",
    "feature_cols = ['TV', 'Radio']\n",
    "X = data[feature_cols]\n",
    "print(np.sqrt(-cross_val_score(lr, X, Y, cv=10, scoring='neg_mean_squared_error')).mean())"
   ]
  },
  {
   "cell_type": "markdown",
   "metadata": {},
   "source": [
    "# Improvements to cross-validation\n",
    "__Repeated cross-validation__\n",
    "\n",
    "* Repeat cross-validation multiple times (__with different random splits of the data__) and average the results\n",
    "* More reliable estimate of out-of-sample performance by __reducing the variance__ associated with a single trial of cross-validation\n",
    "\n",
    "__Creating a hold-out set__\n",
    "\n",
    "* \"Hold out\" a portion of the data __before__ beginning the model building process\n",
    "* Locate the best model using cross-validation on the remaining data, and test it using the hold-out set\n",
    "* More reliable estimate of out-of-sample performance since hold-out set is truly out-of-sample\n",
    "\n",
    "__Feature engineering and selection within cross-validation iterations__\n",
    "\n",
    "* Normally, feature engineering and selection occurs before cross-validation\n",
    "* Instead, perform all feature engineering and selection within each cross-validation iteration\n",
    "* More reliable estimate of out-of-sample performance since it better mimics the application of the model to out-of-sample data"
   ]
  },
  {
   "cell_type": "code",
   "execution_count": null,
   "metadata": {},
   "outputs": [],
   "source": []
  }
 ],
 "metadata": {
  "kernelspec": {
   "display_name": "Python 3",
   "language": "python",
   "name": "python3"
  },
  "language_info": {
   "codemirror_mode": {
    "name": "ipython",
    "version": 3
   },
   "file_extension": ".py",
   "mimetype": "text/x-python",
   "name": "python",
   "nbconvert_exporter": "python",
   "pygments_lexer": "ipython3",
   "version": "3.6.4"
  }
 },
 "nbformat": 4,
 "nbformat_minor": 2
}
